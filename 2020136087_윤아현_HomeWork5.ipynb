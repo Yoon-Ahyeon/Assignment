{
 "cells": [
  {
   "cell_type": "markdown",
   "id": "858361f5",
   "metadata": {},
   "source": [
    "#1번.\n",
    "\n",
    "클래스와 모듈의 공통점과 차이점에 대해 설명하시오."
   ]
  },
  {
   "cell_type": "markdown",
   "id": "5c14cc1c",
   "metadata": {},
   "source": [
    "클래스 : 사용자가 직접 객체를 선언하고 객체 멤버를 구성하여 사용할 수 있다.\n",
    "모듈 :  이미 완성되어 있는 것을 사용자가 가지고 온 후 그 모듈 객체와 객체 멤버를 끌어와서 사용한다.\n",
    "\n",
    "공통점 : 용도에 맞도록 구성한 객체 멤버들을 캡슐화 시킨 후 가져다 사용한다.\n",
    "\n",
    "차이점 : 모듈은 어디서나 접근이 자유로워 사용이 쉬운 반면, 클래스는 그 목적에 맞게 각 프로세스에서 상속하여 사용한다. \n",
    "모듈은 내부 멤버를 변경하여 사용할 수 없지만, 상속받은 클래스는 멤버를 자유롭게 변경할 수 있다. "
   ]
  },
  {
   "cell_type": "markdown",
   "id": "87dfe368",
   "metadata": {},
   "source": [
    "#2번. \n",
    "다형성에 대해 설명하고 다형성을 보여주는 자신만의 파이썬 코드 예제를 제시하시오."
   ]
  },
  {
   "cell_type": "markdown",
   "id": "a9685b9e",
   "metadata": {},
   "source": [
    "다형성 : 같은 형태의 코드가 서로 다른 동작을 하는 것\n",
    "다향성을 통해 코드의 양을 줄이고 여러 객체 타입을 하나의 타입으로 관리가 가능하게 만들어 코드의 유지보수에 좋다."
   ]
  },
  {
   "cell_type": "code",
   "execution_count": 5,
   "id": "dcaf20e4",
   "metadata": {},
   "outputs": [],
   "source": [
    "class Person :\n",
    "    def __init__(self, name, ID) :\n",
    "        self.name = name\n",
    "        self.ID = ID\n",
    "    \n",
    "    def explain(self, name, ID) :\n",
    "        print(\"[Person] %s : %s\" %(self.name, self.ID))\n",
    "        \n",
    "class Student(Person) :\n",
    "    def explain(self) :\n",
    "        print(\"[Student] %s : %s\" %(self.name, self.ID))\n",
    "        \n",
    "class Worker(Person) :\n",
    "    def explain(self) :\n",
    "        print(\"[Office Worker] %s : %s\" %(self.name, self.ID))"
   ]
  },
  {
   "cell_type": "code",
   "execution_count": 6,
   "id": "48d03096",
   "metadata": {},
   "outputs": [
    {
     "name": "stdout",
     "output_type": "stream",
     "text": [
      "[Student] Ahyeon : 2020136087\n",
      "[Office Worker] Dave : 1234567\n"
     ]
    }
   ],
   "source": [
    "student1 = Student(\"Ahyeon\", \"2020136087\")\n",
    "worker1 = Worker(\"Dave\", \"1234567\")\n",
    "student1.explain()\n",
    "worker1.explain()"
   ]
  },
  {
   "cell_type": "markdown",
   "id": "11c6840c",
   "metadata": {},
   "source": [
    "#3번.\n",
    "다음 각 요구사항 모두를 만족시키는 Counter 클래스를 코딩하시오 (정답을 각 요구사항별로 입력할 필요 없이 3번 문제에 대해 1개의 클래스 정의 코드를 제시하면 된다.)\n"
   ]
  },
  {
   "cell_type": "code",
   "execution_count": 94,
   "id": "9eedfd75",
   "metadata": {},
   "outputs": [],
   "source": [
    "class Counter :\n",
    "    def __init__(self, count, step = None) :\n",
    "        if step == None :\n",
    "            self.count = count\n",
    "            self.step = 1\n",
    "            return \n",
    "        self.count = count \n",
    "        self.step = step\n",
    "        \n",
    "    def __str__(self):\n",
    "        return \"[Count (step : %d)] %d\"%(self.step, self.count)\n",
    "    \n",
    "    def incr(self) :\n",
    "        sum = self.count + self.step\n",
    "        self.count = sum\n",
    "        return Counter(self.count)\n",
    "    \n",
    "    def __call__(self) : \n",
    "        self.incr()\n",
    "\n",
    "    def __add__(self, other) :\n",
    "        return Counter(self.count + other)\n",
    "    \n",
    "    def __sub__(self, other) :\n",
    "        return Counter(self.count - other)\n",
    "    \n",
    "    def __gt__(self, y) :\n",
    "        return self.count > y\n",
    "    \n",
    "    def __ge__(self, y) :\n",
    "        return self.count >= y\n",
    "    \n",
    "    def __lt__(self, y) :\n",
    "        return self.count < y\n",
    "    \n",
    "    def __le__(self, y) :\n",
    "        return self.count <= y\n",
    "    \n",
    "    def __eq__(self, y) :\n",
    "        return self.count == y\n",
    "    \n",
    "    def __ne__(self, y) :\n",
    "        return self.count != y"
   ]
  },
  {
   "cell_type": "markdown",
   "id": "3547dd2e",
   "metadata": {},
   "source": [
    "요구사항 1. 생성자에 count 값과 step 값을 인자로 받을 수 있다.\n",
    "\n",
    "생성자를 통해 초기 값을 설정해준다. \n",
    "step 값을 받지 않았을 때는 기본값을 1로 설정해준다.\n",
    "count, step 값을 모두 받았을 땐 받은 값을 기본값으로 설정한다."
   ]
  },
  {
   "cell_type": "code",
   "execution_count": 95,
   "id": "d8eb6ab5",
   "metadata": {},
   "outputs": [],
   "source": [
    "c = Counter(10)\n",
    "d = Counter(10, 2)"
   ]
  },
  {
   "cell_type": "markdown",
   "id": "e7086990",
   "metadata": {},
   "source": [
    "요구사항 2. 다음과 같이 Counter의 인스턴스를 출력을 해주는 __str__() 메소드를 Counter 클래스 내에 구현하시오.\n",
    "\n",
    "step과 count 값을 사용해 출력내용을 반환해준다."
   ]
  },
  {
   "cell_type": "code",
   "execution_count": 96,
   "id": "16a89289",
   "metadata": {},
   "outputs": [
    {
     "name": "stdout",
     "output_type": "stream",
     "text": [
      "[Count (step : 1)] 10\n",
      "[Count (step : 2)] 10\n"
     ]
    }
   ],
   "source": [
    "print(c)\n",
    "print(d)"
   ]
  },
  {
   "cell_type": "markdown",
   "id": "f7a0dc96",
   "metadata": {},
   "source": [
    "요구사항 3. 다음과 같이 step에 주어진 증분만큼 count를 증가시키는 incr() 메소드를 Counter 클래스 내에 구현하시오.\n",
    "\n",
    "count값과 step값을 num 변수에 저장을 한다.\n",
    "그 뒤 count값을 num으로 바꾸어준 뒤, 반환한다. "
   ]
  },
  {
   "cell_type": "code",
   "execution_count": 97,
   "id": "e2d4b91f",
   "metadata": {},
   "outputs": [
    {
     "name": "stdout",
     "output_type": "stream",
     "text": [
      "[Count (step : 1)] 11\n",
      "[Count (step : 2)] 12\n"
     ]
    }
   ],
   "source": [
    "c()\n",
    "d()\n",
    "print(c)\n",
    "print(d)"
   ]
  },
  {
   "cell_type": "markdown",
   "id": "9b7cd97b",
   "metadata": {},
   "source": [
    "요구사항 4. Counter 클래스 내에 관련 메소드를 추가하여 인스턴스 객체를 직접 호출(call)할 수 있도록 하시오. 인스턴스 객체를 직접 호출했을 때에 내부적으로 incr() 메소드를 호출하는 방법으로 구현하시오.\n",
    "\n",
    "__call__ 함수는 인스턴스가 호출되었을 때 실행이 되는 것으로 클래스 객체도 호출되게 만들어준다.\n",
    "이 함수에서 incr() 함수가 불리도록 구현한다. "
   ]
  },
  {
   "cell_type": "code",
   "execution_count": 98,
   "id": "1be17be7",
   "metadata": {},
   "outputs": [
    {
     "name": "stdout",
     "output_type": "stream",
     "text": [
      "[Count (step : 1)] 12\n",
      "[Count (step : 2)] 14\n"
     ]
    }
   ],
   "source": [
    "c.incr()\n",
    "d.incr()\n",
    "print(c)\n",
    "print(d)"
   ]
  },
  {
   "cell_type": "markdown",
   "id": "5d49d7f2",
   "metadata": {},
   "source": [
    "요구사항 5. 다음과 같은 두 개의 산술 연산 (+, -)이 수행될 수 있도록 Counter 클래스 내에 관련 메소드를 추가하시오.\n",
    "\n",
    "__add__ (연산자 : +) : 다른 클래스의 객체의 count값과 이 클래스 객체의 count값을 더한다. \n",
    "\n",
    "__sub__ (연산자 : -) : 다른 클래스의 객체의 count값과 이 클래스 객체의 count값을 뺀다. "
   ]
  },
  {
   "cell_type": "code",
   "execution_count": 99,
   "id": "7ac3c6b2",
   "metadata": {
    "scrolled": true
   },
   "outputs": [
    {
     "name": "stdout",
     "output_type": "stream",
     "text": [
      "[Count (step : 1)] 17\n",
      "[Count (step : 1)] 9\n"
     ]
    }
   ],
   "source": [
    "c = c + 5\n",
    "d = d - 5\n",
    "print(c)\n",
    "print(d)"
   ]
  },
  {
   "cell_type": "markdown",
   "id": "10382cd6",
   "metadata": {},
   "source": [
    "요구사항 6. 다음과 같은 관계연산 (>, <, ==)이 수행될 수 있도록 Counter 클래스 내에 관련 메소드를 추가하시오.\n",
    "\n",
    "__gt__ (연산자 : >) : >를 수행하게 될 때, 이 클래스 객체인 count값과 정수의 값을 비교한 후 반환한다. \n",
    "\n",
    "__ge__ (연산자 : >=) : >=를 수행하게 될 때, 이 클래스 객체인 count값과 정수의 값을 비교한 후 반환한다. \n",
    "\n",
    "__lt__ (연산자 : <) : <를 수행하게 될 때, 이 클래스 객체인 count값과 정수의 값을 비교한 후 반환한다. \n",
    "\n",
    "__le__ (연산자 : <=) : <=를 수행하게 될 때, 이 클래스 객체인 count값과 정수의 값을 비교한 후 반환한다. \n",
    "\n",
    "__eq__ (연산자 : ==) : ==를 수행하게 될 때, 이 클래스 객체인 count값과 정수의 값을 비교한 후 반환한다. \n",
    "\n",
    "__ne__ (연산자 : !=) : !=를 수행하게 될 때, 이 클래스 객체인 count값과 정수의 값을 비교한 후 반환한다. "
   ]
  },
  {
   "cell_type": "code",
   "execution_count": 100,
   "id": "fa2aac86",
   "metadata": {},
   "outputs": [
    {
     "name": "stdout",
     "output_type": "stream",
     "text": [
      "True\n",
      "False\n",
      "False\n",
      "True\n",
      "True\n",
      "False\n"
     ]
    }
   ],
   "source": [
    "print(c > 10)\n",
    "\n",
    "print(d > 10)\n",
    "\n",
    "print(c < 10)\n",
    "\n",
    "print(d < 10)\n",
    "\n",
    "print(c == 17)\n",
    "\n",
    "print(d != 9)"
   ]
  },
  {
   "cell_type": "markdown",
   "id": "1f0d71c3",
   "metadata": {},
   "source": [
    "#4번. 다음은 내장 자료형 list를 서브클래싱하여 만든 MySet 클래스 정의 내용이다. 다음 클래스 정의에서 __init__(), __str()__(), elimicate_duplicate()의 세 개의 메소드 코드 내용을 자신이 다른 사람에게 가르친다고 생각하며 설명해보시오.\n",
    "\n",
    "MySet은 집합(Set) 자료형을 정의하려는 의도하에 만들어진 클래스이다."
   ]
  },
  {
   "cell_type": "code",
   "execution_count": 8,
   "id": "82fc336e",
   "metadata": {},
   "outputs": [
    {
     "name": "stdout",
     "output_type": "stream",
     "text": [
      "MySet: {1 ,2 ,3}\n",
      "MySet: {2 ,3 ,4 ,5 ,6 ,7 ,8 ,9}\n"
     ]
    }
   ],
   "source": [
    "class MySet(list):\n",
    "    def __init__(self, l):\n",
    "        for e in l:\n",
    "            self.append(e)\n",
    "        MySet.eliminate_duplicate(self)\n",
    "    \n",
    "    def __str__(self):\n",
    "        result = \"MySet: {\"\n",
    "        for e in self:\n",
    "            result = result + str(e) + \" ,\"\n",
    "        result = result[0:len(result)-2] + \"}\"\n",
    "        return result\n",
    "    \n",
    "    @staticmethod    \n",
    "    def eliminate_duplicate(l):\n",
    "        s = []\n",
    "        for e in l:\n",
    "            if e not in s:\n",
    "                s.append(e)\n",
    "        l[:] = []\n",
    "        for e in s:\n",
    "            l.append(e)\n",
    "\n",
    "    \n",
    "if __name__ == \"__main__\":\n",
    "    s = MySet([1, 2, 2, 3])\n",
    "    print(s)\n",
    "    t = MySet([2, 3, 4, 5, 6, 7, 8, 8, 8, 8, 8, 9])\n",
    "    print(t)"
   ]
  },
  {
   "cell_type": "markdown",
   "id": "d0a9529c",
   "metadata": {},
   "source": [
    "__init__ : 리스트 I에 있는 요소들을 클래스 객체의 인스턴스에 추가하고 기본값으로 설정한다.\n",
    "*elimainate_duplicate* 함수를 사용하여 이 인스턴스의 중복 요소들을 제거한다.\n",
    "\n",
    "__str__ : MySet : {}형태로 나타내기 위해 사용하는 함수이다.\n",
    "인스턴스 내에 있는 요소들을 문자열형태로 나타낸다.\n",
    "\n",
    "eliminate_duplicate() : 중복 제거를 위한 함수이다.\n",
    "리스트 I에 있는 요소들이 중복되지 않게 새로운 리스트 s에 옯긴다.\n",
    "리스트 I를 초기화한 뒤 다시 리스트 s에 있는 요소들을 리스트 I로 옮긴다.\n",
    "객체로의 접근이 아니어서 self를 사용할 수 없기 때문에, staticmethod로 간주한다."
   ]
  },
  {
   "cell_type": "markdown",
   "id": "e82b6779",
   "metadata": {},
   "source": [
    "#5번. 4번 문제에 정의된 MySet 클래스에 메소드를 추가하여 다음 각 요구사항 모두를 만족시키는 코딩을 제시하시오."
   ]
  },
  {
   "cell_type": "code",
   "execution_count": 14,
   "id": "898b9484",
   "metadata": {},
   "outputs": [
    {
     "name": "stdout",
     "output_type": "stream",
     "text": [
      "MySet: {1, 2, 3}\n",
      "MySet: {2, 3, 4, 5, 6, 7, 8, 9}\n"
     ]
    }
   ],
   "source": [
    "class MySet(list):\n",
    "    def __init__(self, l):\n",
    "        for e in l:\n",
    "            self.append(e)\n",
    "        MySet.eliminate_duplicate(self)\n",
    "    \n",
    "    def __str__(self):\n",
    "        result = \"MySet: {\"\n",
    "        for e in self:\n",
    "            result = result + str(e) + \", \"\n",
    "        result = result[0:len(result)-2] + \"}\"\n",
    "        return result\n",
    "\n",
    "    @staticmethod    \n",
    "    def eliminate_duplicate(l):\n",
    "        s = []\n",
    "        for e in l:\n",
    "            if e not in s:\n",
    "                s.append(e)\n",
    "        l[:] = []\n",
    "        for e in s:\n",
    "            l.append(e)\n",
    "    \n",
    "    def __or__(self, other): # 합집합\n",
    "        lst = []\n",
    "        for e in self :\n",
    "            lst.append(e)\n",
    "        for i in other :\n",
    "            if i not in lst :\n",
    "                lst.append(i)\n",
    "        return MySet(lst)\n",
    "    \n",
    "    def __and__(self, other) : #교집합\n",
    "        lst = []\n",
    "        for e in self :\n",
    "            for i in other :\n",
    "                if(i == e) : \n",
    "                    lst.append(i)       \n",
    "        return MySet(lst)\n",
    "    \n",
    "    def __sub__(self, other) : # 차집합\n",
    "        lst = []\n",
    "        for e in self :\n",
    "            lst.append(e)\n",
    "        for i in other :\n",
    "            if i in lst:\n",
    "                lst.remove(i)\n",
    "        return MySet(lst)\n",
    "\n",
    "if __name__ == \"__main__\":\n",
    "    s = MySet([1, 2, 2, 3])\n",
    "    print(s)\n",
    "    t = MySet([2, 3, 4, 5, 6, 7, 8, 8, 8, 8, 8, 9])\n",
    "    print(t)"
   ]
  },
  {
   "cell_type": "markdown",
   "id": "576be56f",
   "metadata": {},
   "source": [
    "요구사항 1. | 연산으로 두 집합의 합집합을 반환한다.\n",
    "\n",
    "__or__ (연산자 : |) : 객체의 인스턴스에 있는 요소들을 새로운 리스트 lst에 추가한다. 만일 다른 집합에 있는 요소와 lst에 있는 요소가 중복되지 않으면, 다른 집합에 있는 요소도 추가한다. "
   ]
  },
  {
   "cell_type": "code",
   "execution_count": 15,
   "id": "eddc8321",
   "metadata": {},
   "outputs": [
    {
     "name": "stdout",
     "output_type": "stream",
     "text": [
      "MySet: {1, 2, 3, 4, 5, 6, 7, 8, 9}\n"
     ]
    }
   ],
   "source": [
    "u = s | t\n",
    "print(u)"
   ]
  },
  {
   "cell_type": "markdown",
   "id": "03fdb427",
   "metadata": {},
   "source": [
    "요구사항 2. & 연산으로 두 집합의 교집합을 반환한다.\n",
    "\n",
    "__and__ (연산자 : &) : 객체의 인스턴스에 있는 요소와 다른 집합의 요소 중 겹치는 요소가 있다면 lst에 추가한다."
   ]
  },
  {
   "cell_type": "code",
   "execution_count": 16,
   "id": "202533e1",
   "metadata": {},
   "outputs": [
    {
     "name": "stdout",
     "output_type": "stream",
     "text": [
      "MySet: {2, 3}\n"
     ]
    }
   ],
   "source": [
    "u = s & t\n",
    "print(u)"
   ]
  },
  {
   "cell_type": "markdown",
   "id": "3c241b92",
   "metadata": {},
   "source": [
    "요구사항 3. - 연산으로 두 집합의 차집합을 반환한다.\n",
    "\n",
    "__sub__ (연산자 : -) : 객체의 인스턴스 내에 있는 모든 요소들을 lst에 추가한다.\n",
    "여기서, 다른 집합에 있는 요소와 lst에 있는 요소가 겹칠 시 lst에 중복된 요소들을 제거한다."
   ]
  },
  {
   "cell_type": "code",
   "execution_count": 17,
   "id": "8f7d23bf",
   "metadata": {},
   "outputs": [
    {
     "name": "stdout",
     "output_type": "stream",
     "text": [
      "MySet: {1, 2}\n"
     ]
    }
   ],
   "source": [
    "s = MySet([1, 2, 3])\n",
    "t = MySet([3, 4, 5])\n",
    "u = s - t\n",
    "print(u)"
   ]
  },
  {
   "cell_type": "markdown",
   "id": "9f40504d",
   "metadata": {},
   "source": [
    "#6번. 5번 문제에서 정의한 MySet 클래스에 대해 다음 예제를 수행하면 오류없이 올바르게 동작하는 것을 확인할 수 있다. 다음 예제 내에 있는 len(), bool() 내장함수와 in 키워드 사용 예제가 별다른 메소드 정의를 하지 않았는 데도 올바르게 수행되는 이유를 설명하시오."
   ]
  },
  {
   "cell_type": "code",
   "execution_count": 18,
   "id": "a328df1e",
   "metadata": {},
   "outputs": [
    {
     "name": "stdout",
     "output_type": "stream",
     "text": [
      "6\n",
      "True\n",
      "True\n"
     ]
    }
   ],
   "source": [
    "s = MySet([1, 2, 3, 4, 5, 6])\n",
    "print(len(s))\n",
    "print(bool(s)) \n",
    "print(2 in s)"
   ]
  },
  {
   "cell_type": "markdown",
   "id": "1d69f48d",
   "metadata": {},
   "source": [
    "len, bool은 파이썬 내에 존재하는 내장함수이기 때문에 별도로 정의를 하지 않아도 사용할 수 있다.\n",
    "\n",
    "in도 마찬가지로 파이썬 내에 있는 연산자이므로 바로 사용가능하다. "
   ]
  },
  {
   "cell_type": "markdown",
   "id": "a0986750",
   "metadata": {},
   "source": [
    "#발전문제"
   ]
  },
  {
   "cell_type": "markdown",
   "id": "486299c9",
   "metadata": {},
   "source": [
    "1. Assignment 3 & Assignment 4의 Incremental Project 코드를 다시 확장/변형하여 다음과 같은 조건을 만족하도록 구현하시오 (CODE REFACTORING!!!)."
   ]
  },
  {
   "cell_type": "code",
   "execution_count": 268,
   "id": "6c351d40",
   "metadata": {},
   "outputs": [],
   "source": [
    "import requests\n",
    "import re\n",
    "\n",
    "class SearchEngine(list) :\n",
    "    def __init__(self, *args) :\n",
    "        for i in args :\n",
    "            self.append(i)\n",
    "\n",
    "    def addUrl(self, url) :\n",
    "        self.append(url)\n",
    "        print(self)\n",
    "    \n",
    "    def removeUrl(self, url) :\n",
    "        for i in self :\n",
    "            if i == url :\n",
    "                self.remove(i)\n",
    "        print(self)\n",
    "    \n",
    "    def listUrls(self) :\n",
    "        for i in self :\n",
    "            print(i)\n",
    "     \n",
    "    def getWordsFrequency(self) :\n",
    "        if self == None :\n",
    "            return {}\n",
    "        \n",
    "        def Checkblock(link) :\n",
    "            check = False  \n",
    "            for i in range(len(link)) :\n",
    "                if link[i] == '<' :\n",
    "                    check = True\n",
    "                    break           \n",
    "                elif link[i] == '>' :\n",
    "                    check = True\n",
    "                    break              \n",
    "                else :\n",
    "                    continue          \n",
    "            return check\n",
    "        \n",
    "        def Countblock(link) :    \n",
    "            count = 0\n",
    "            num = 0   \n",
    "            for i in range(0, len(link)) : \n",
    "                if link[i] == '<'  :\n",
    "                    num = i\n",
    "                    for j in range(i, len(link)) : \n",
    "                        if link[j] != '>'  :\n",
    "                            count += 1\n",
    "                            continue\n",
    "                        elif link[j] == '>' :\n",
    "                            count += 1\n",
    "                            break\n",
    "                    break\n",
    "                else :\n",
    "                    continue            \n",
    "            link = link[ : num] + link[num+count : ]\n",
    "            return link    \n",
    "            \n",
    "        def DeleteHTML(link) :    \n",
    "            HTML = Countblock(link) \n",
    "            while Checkblock(HTML) == True :      \n",
    "                HTML = Countblock(HTML)       \n",
    "                continue    \n",
    "            return HTML\n",
    "            \n",
    "        def CheckVar(link) :   \n",
    "            check = False    \n",
    "            for i in range(len(link)) :       \n",
    "                if link[i:i+3] == 'var' :\n",
    "                    check = True\n",
    "                    break            \n",
    "                else :\n",
    "                    continue            \n",
    "            return check\n",
    "            \n",
    "        def CountVar(link) :    \n",
    "            count = 0\n",
    "            num = 0    \n",
    "            for i in range(0, len(link)) :  \n",
    "                if link[i:i+3] == 'var'  :\n",
    "                    num = i\n",
    "                    for j in range(i, len(link)) : \n",
    "                        if link[j] != ';' :\n",
    "                            count += 1\n",
    "                            continue\n",
    "                        elif link[j] == ';':\n",
    "                            count += 1\n",
    "                            break\n",
    "                    break\n",
    "                else :\n",
    "                    continue            \n",
    "            link = link[ : num] + link[num+count : ]\n",
    "            return link\n",
    "            \n",
    "        def DeleteVar(link) :    \n",
    "            var_HTML = CountVar(link)    \n",
    "            while CheckVar(var_HTML) == True :       \n",
    "                var_HTML = CountVar(var_HTML)        \n",
    "                continue    \n",
    "            return var_HTML\n",
    "            \n",
    "        def CheckjsMVC(link) :    \n",
    "            check = False    \n",
    "            for i in range(len(link)) :        \n",
    "                if link[i:i+5] == 'jsMVC' :\n",
    "                    check = True\n",
    "                    break\n",
    "                else :\n",
    "                    continue           \n",
    "            return check\n",
    "            \n",
    "        def CountjsMVC(link) :    \n",
    "            count = 0\n",
    "            num = 0    \n",
    "            for i in range(0, len(link)) :  \n",
    "                if link[i:i+5] == 'jsMVC'  :\n",
    "                    num = i\n",
    "                    for j in range(i, len(link)) : \n",
    "                        if link[j] != ';' :\n",
    "                            count += 1\n",
    "                            continue\n",
    "                        elif link[j] == ';':\n",
    "                            count += 1\n",
    "                            break\n",
    "                    break\n",
    "                else :\n",
    "                    continue                \n",
    "            link = link[ : num] + link[num+count : ]    \n",
    "            return link\n",
    "            \n",
    "        def DeletejsMVC(link) :    \n",
    "            jsMVC_HTML = CountjsMVC(link)    \n",
    "            while CheckjsMVC(jsMVC_HTML) == True :       \n",
    "                jsMVC_HTML = CountjsMVC(jsMVC_HTML)        \n",
    "                continue   \n",
    "            return jsMVC_HTML\n",
    "\n",
    "        def CheckBigblock(link) :    \n",
    "            check = False    \n",
    "            for i in range(len(link)) :        \n",
    "                if link[i] == '{' :\n",
    "                    check = True\n",
    "                    break\n",
    "                else :\n",
    "                    continue           \n",
    "            return check\n",
    "            \n",
    "        def CountBigblock(link) :    \n",
    "            count = 0\n",
    "            num = 0    \n",
    "            for i in range(0, len(link)) :  \n",
    "                if link[i] == '{'  :\n",
    "                    num = i\n",
    "                    for j in range(i, len(link)) : \n",
    "                        if link[j] != '}'  :\n",
    "                            count += 1\n",
    "                            continue\n",
    "                        elif link[j] == '}' :\n",
    "                            count += 1\n",
    "                            break\n",
    "                    break\n",
    "                else :\n",
    "                    continue            \n",
    "            link = link[ : num] + link[num+count : ]    \n",
    "            return link   \n",
    "            \n",
    "        def DeleteBigHTML(link) :    \n",
    "            Big_HTML = Countblock(link)    \n",
    "            while CheckBigblock(Big_HTML) == True :        \n",
    "                Big_HTML = CountBigblock(Big_HTML)        \n",
    "                continue    \n",
    "            return Big_HTML\n",
    "            \n",
    "        def CheckWindowblock(link) :   \n",
    "            check = False    \n",
    "            for i in range(len(link)) :        \n",
    "                if link[i:i+6] == 'window' :\n",
    "                    check = True\n",
    "                    break\n",
    "                else :\n",
    "                    continue            \n",
    "            return check\n",
    "            \n",
    "        def CountWindowblock(link) :    \n",
    "            count = 0\n",
    "            num = 0    \n",
    "            for i in range(0, len(link)) :  \n",
    "                if link[i:i+6] == 'window'  :\n",
    "                    num = i\n",
    "                    for j in range(i, len(link)) : \n",
    "                        if link[j] != ';'  :\n",
    "                            count += 1\n",
    "                            continue\n",
    "                        elif link[j] == ';' :\n",
    "                            count += 1\n",
    "                            break\n",
    "                    break\n",
    "                else :\n",
    "                    continue            \n",
    "            link = link[ : num] + link[num+count : ]    \n",
    "            return link  \n",
    "            \n",
    "        def DeleteWindowHTML(link) :    \n",
    "            Finally_HTML = CountWindowblock(link)    \n",
    "            while CheckWindowblock(Finally_HTML) == True :        \n",
    "                Finally_HTML = CountFinallyblock(Finally_HTML)       \n",
    "                continue    \n",
    "            return Finally_HTML\n",
    "\n",
    "        def checking(list) :   \n",
    "            dictionary = {}  \n",
    "            for text in list: \n",
    "                if text not in dictionary :\n",
    "                    dictionary[text] = 1\n",
    "                else :\n",
    "                    dictionary[text] += 1        \n",
    "            return dictionary\n",
    "        \n",
    "        sum_dict = {}\n",
    "        \n",
    "        for e in self :\n",
    "            req = requests.get(e)\n",
    "            source = req.text     \n",
    "            \n",
    "            New_HTML = DeleteHTML(source)\n",
    "            Soon_HTML = DeleteVar(New_HTML)\n",
    "            Maybe_HTML = DeletejsMVC(Soon_HTML)\n",
    "            Final_HTML = DeleteBigHTML(Maybe_HTML)\n",
    "            Finally_HTML = DeleteWindowHTML(Final_HTML)\n",
    "            result = re.sub('[-=+,#/\\?:^$.©@*\\\"※~&%ㆍ!』\\\\‘}|\\(\\)\\[}\\]\\<\\>`\\'…》]', '', Finally_HTML)  \n",
    "            result = result.split() \n",
    "            checking_result = checking(result)\n",
    "            sum_dict.update(checking_result)\n",
    "    \n",
    "        return sum_dict\n",
    "    \n",
    "    def getMaxFreqencyWords(self) :\n",
    "\n",
    "        a = self.getWordsFrequency()\n",
    "        \n",
    "        if a == {} :\n",
    "            return None \n",
    "        \n",
    "        dict_a = {}\n",
    "        max = 0\n",
    "        for j in a.values() :\n",
    "            if max < j :\n",
    "                max = j\n",
    "            else :\n",
    "                continue\n",
    "                \n",
    "        for key, value in a.items():\n",
    "            if value == max :\n",
    "                dict_a[key] = value\n",
    "            else :\n",
    "                continue\n",
    "        return dict_a\n",
    "    \n",
    "    def searchUrlByWord(self, str) :\n",
    "        a = self.getWordsFrequency()\n",
    "        "
   ]
  },
  {
   "cell_type": "raw",
   "id": "e9b543db",
   "metadata": {},
   "source": [
    "w1 = SearchEngine('http://www.cnn.com', 'http://www.times.com', 'https://www.amazon.com')\n",
    "w2 = SearchEngine('http://www.cnn.com', 'http://www.times.com')\n",
    "w3 = SearchEngine()\n",
    "\n",
    "w1.addUrl('https://github.com')\n",
    "w3.addUrl('http://stackoverflow.com')\n",
    "w1.removeUrl('http://www.cnn.com')\n",
    "w2.removeUrl('http://stackoverflow.com')\n",
    "w1.listUrls()"
   ]
  },
  {
   "cell_type": "code",
   "execution_count": 269,
   "id": "1313f274",
   "metadata": {},
   "outputs": [
    {
     "name": "stdout",
     "output_type": "stream",
     "text": [
      "{}\n",
      "{'카카오': 17, '이': 1, '페이지를': 1, '실행하려면': 1, '자바스크립트를': 1, '사용해야': 1, '합니다본문': 1, '바로가기': 22, '메뉴': 4, 'KaKao': 2, '메인': 2, '열기': 2, '검색창': 1, '메인메뉴': 1, '문화': 1, '공동체': 1, '히스토리': 1, '뉴스': 2, '기술과': 2, '서비스': 4, '기술': 1, '약속과': 2, '책임': 2, 'ESG': 1, '소셜임팩트': 1, '디지털': 1, '권리': 1, 'AI': 1, '윤리': 2, '투자정보인재영입': 1, '고객센터': 3, '고객센터Daum': 1, '고객센터멜론': 1, '다크모드로': 1, '변경하기': 1, '영어로': 1, '보기': 1, '닫기': 1, '홈': 1, '본문': 1, '현재': 1, '페이지': 1, '위치': 1, '오늘의': 2, '12월': 1, '11일': 1, '토요일': 1, '소식개의': 1, '업데이트된': 1, '소식': 1, '하단': 1, '문화공동체히스토리': 1, '기술서비스': 1, 'ESG소셜임팩트디지털': 1, '권리AI': 1, '투자정보': 1, '기업지배구조주가정보재무정보IR행사공시정보공고': 1, '고객센터사이트': 2, 'Daum': 6, '인재영입사이트': 1, '카카오계정사이트': 1, '이용정보': 1, '이용약관': 1, '카카오계정': 1, '서비스사이트': 11, '위치기반서비스이용약관': 1, '개인정보처리방침': 1, '기업사이트사이트': 2, '바로가기운영정책': 1, '청소년보호정책': 1, '바로가기권리침해신고안내': 1, '공지사항': 1, '바로가기사이버윤리실': 1, 'Contact': 1, 'Us': 1, '관련사이트': 1, 'AI사이트': 1, '프라이버시사이트': 1, '디벨로퍼스사이트': 1, '다음': 1, '포털': 1, '사이트사이트': 2, '동반': 1, '성장': 1, '제주': 1, 'with': 1, 'kakao사이트': 1, 'Kakao': 1, 'Corp': 1, 'All': 1, 'rights': 1, 'reserved': 1, '세븐틴': 1, 'This': 1, 'page': 1, 'uses': 1, 'frames': 2, 'The': 1, 'current': 1, 'browser': 1, 'you': 1, 'are': 1, 'using': 1, 'does': 1, 'not': 1, 'support': 1}\n"
     ]
    }
   ],
   "source": [
    "Example = SearchEngine('http://www.kakao.com', 'http://www.seventeen-17.com/')\n",
    "Exception = SearchEngine()\n",
    "print(Exception.getWordsFrequency())\n",
    "print(Example.getWordsFrequency())"
   ]
  },
  {
   "cell_type": "code",
   "execution_count": 270,
   "id": "8bb53a28",
   "metadata": {},
   "outputs": [
    {
     "name": "stdout",
     "output_type": "stream",
     "text": [
      "None\n",
      "{'바로가기': 22}\n"
     ]
    }
   ],
   "source": [
    "print(Exception.getMaxFreqencyWords())\n",
    "print(Example.getMaxFreqencyWords())"
   ]
  },
  {
   "cell_type": "markdown",
   "id": "54779992",
   "metadata": {},
   "source": [
    "위 1번 문제에서 정의한 SearchEngine 클래스를 상속하여 SearchEngineWithOrderedWebWords 클래스를 정의하고 슈퍼클래스에 정의된 getWordsFrequency() 메소드를 오버라이드하여 단어 출현 빈도를 내림 차순으로 정렬하여 리스트로 출력하시오."
   ]
  },
  {
   "cell_type": "code",
   "execution_count": 318,
   "id": "286cf1c0",
   "metadata": {},
   "outputs": [],
   "source": [
    "class SearchEngineWithOrderedWebWords(SearchEngine) :\n",
    "    \n",
    "    def getWordsFrequency(self, reverse = None) :\n",
    "        \n",
    "        if reverse == None :\n",
    "            self.reverse = False\n",
    "        \n",
    "        elif reverse == True :\n",
    "            self.reverse = True\n",
    "            \n",
    "        if self == None :\n",
    "            return {}\n",
    "        \n",
    "        def Checkblock(link) :\n",
    "            check = False  \n",
    "            for i in range(len(link)) :\n",
    "                if link[i] == '<' :\n",
    "                    check = True\n",
    "                    break           \n",
    "                elif link[i] == '>' :\n",
    "                    check = True\n",
    "                    break              \n",
    "                else :\n",
    "                    continue          \n",
    "            return check\n",
    "        \n",
    "        def Countblock(link) :    \n",
    "            count = 0\n",
    "            num = 0   \n",
    "            for i in range(0, len(link)) : \n",
    "                if link[i] == '<'  :\n",
    "                    num = i\n",
    "                    for j in range(i, len(link)) : \n",
    "                        if link[j] != '>'  :\n",
    "                            count += 1\n",
    "                            continue\n",
    "                        elif link[j] == '>' :\n",
    "                            count += 1\n",
    "                            break\n",
    "                    break\n",
    "                else :\n",
    "                    continue            \n",
    "            link = link[ : num] + link[num+count : ]\n",
    "            return link    \n",
    "            \n",
    "        def DeleteHTML(link) :    \n",
    "            HTML = Countblock(link) \n",
    "            while Checkblock(HTML) == True :      \n",
    "                HTML = Countblock(HTML)       \n",
    "                continue    \n",
    "            return HTML\n",
    "            \n",
    "        def CheckVar(link) :   \n",
    "            check = False    \n",
    "            for i in range(len(link)) :       \n",
    "                if link[i:i+3] == 'var' :\n",
    "                    check = True\n",
    "                    break            \n",
    "                else :\n",
    "                    continue            \n",
    "            return check\n",
    "            \n",
    "        def CountVar(link) :    \n",
    "            count = 0\n",
    "            num = 0    \n",
    "            for i in range(0, len(link)) :  \n",
    "                if link[i:i+3] == 'var'  :\n",
    "                    num = i\n",
    "                    for j in range(i, len(link)) : \n",
    "                        if link[j] != ';' :\n",
    "                            count += 1\n",
    "                            continue\n",
    "                        elif link[j] == ';':\n",
    "                            count += 1\n",
    "                            break\n",
    "                    break\n",
    "                else :\n",
    "                    continue            \n",
    "            link = link[ : num] + link[num+count : ]\n",
    "            return link\n",
    "            \n",
    "        def DeleteVar(link) :    \n",
    "            var_HTML = CountVar(link)    \n",
    "            while CheckVar(var_HTML) == True :       \n",
    "                var_HTML = CountVar(var_HTML)        \n",
    "                continue    \n",
    "            return var_HTML\n",
    "            \n",
    "        def CheckjsMVC(link) :    \n",
    "            check = False    \n",
    "            for i in range(len(link)) :        \n",
    "                if link[i:i+5] == 'jsMVC' :\n",
    "                    check = True\n",
    "                    break\n",
    "                else :\n",
    "                    continue           \n",
    "            return check\n",
    "            \n",
    "        def CountjsMVC(link) :    \n",
    "            count = 0\n",
    "            num = 0    \n",
    "            for i in range(0, len(link)) :  \n",
    "                if link[i:i+5] == 'jsMVC'  :\n",
    "                    num = i\n",
    "                    for j in range(i, len(link)) : \n",
    "                        if link[j] != ';' :\n",
    "                            count += 1\n",
    "                            continue\n",
    "                        elif link[j] == ';':\n",
    "                            count += 1\n",
    "                            break\n",
    "                    break\n",
    "                else :\n",
    "                    continue                \n",
    "            link = link[ : num] + link[num+count : ]    \n",
    "            return link\n",
    "            \n",
    "        def DeletejsMVC(link) :    \n",
    "            jsMVC_HTML = CountjsMVC(link)    \n",
    "            while CheckjsMVC(jsMVC_HTML) == True :       \n",
    "                jsMVC_HTML = CountjsMVC(jsMVC_HTML)        \n",
    "                continue   \n",
    "            return jsMVC_HTML\n",
    "\n",
    "        def CheckBigblock(link) :    \n",
    "            check = False    \n",
    "            for i in range(len(link)) :        \n",
    "                if link[i] == '{' :\n",
    "                    check = True\n",
    "                    break\n",
    "                else :\n",
    "                    continue           \n",
    "            return check\n",
    "            \n",
    "        def CountBigblock(link) :    \n",
    "            count = 0\n",
    "            num = 0    \n",
    "            for i in range(0, len(link)) :  \n",
    "                if link[i] == '{'  :\n",
    "                    num = i\n",
    "                    for j in range(i, len(link)) : \n",
    "                        if link[j] != '}'  :\n",
    "                            count += 1\n",
    "                            continue\n",
    "                        elif link[j] == '}' :\n",
    "                            count += 1\n",
    "                            break\n",
    "                    break\n",
    "                else :\n",
    "                    continue            \n",
    "            link = link[ : num] + link[num+count : ]    \n",
    "            return link   \n",
    "            \n",
    "        def DeleteBigHTML(link) :    \n",
    "            Big_HTML = Countblock(link)    \n",
    "            while CheckBigblock(Big_HTML) == True :        \n",
    "                Big_HTML = CountBigblock(Big_HTML)        \n",
    "                continue    \n",
    "            return Big_HTML\n",
    "            \n",
    "        def CheckWindowblock(link) :   \n",
    "            check = False    \n",
    "            for i in range(len(link)) :        \n",
    "                if link[i:i+6] == 'window' :\n",
    "                    check = True\n",
    "                    break\n",
    "                else :\n",
    "                    continue            \n",
    "            return check\n",
    "            \n",
    "        def CountWindowblock(link) :    \n",
    "            count = 0\n",
    "            num = 0    \n",
    "            for i in range(0, len(link)) :  \n",
    "                if link[i:i+6] == 'window'  :\n",
    "                    num = i\n",
    "                    for j in range(i, len(link)) : \n",
    "                        if link[j] != ';'  :\n",
    "                            count += 1\n",
    "                            continue\n",
    "                        elif link[j] == ';' :\n",
    "                            count += 1\n",
    "                            break\n",
    "                    break\n",
    "                else :\n",
    "                    continue            \n",
    "            link = link[ : num] + link[num+count : ]    \n",
    "            return link  \n",
    "            \n",
    "        def DeleteWindowHTML(link) :    \n",
    "            Finally_HTML = CountWindowblock(link)    \n",
    "            while CheckWindowblock(Finally_HTML) == True :        \n",
    "                Finally_HTML = CountFinallyblock(Finally_HTML)       \n",
    "                continue    \n",
    "            return Finally_HTML\n",
    "\n",
    "        def checking(list) :   \n",
    "            dictionary = {}  \n",
    "            for text in list: \n",
    "                if text not in dictionary :\n",
    "                    dictionary[text] = 1\n",
    "                else :\n",
    "                    dictionary[text] += 1        \n",
    "            return dictionary\n",
    "        \n",
    "        sum_dict = {}\n",
    "        \n",
    "        for e in self :\n",
    "            req = requests.get(e)\n",
    "            source = req.text     \n",
    "            \n",
    "            New_HTML = DeleteHTML(source)\n",
    "            Soon_HTML = DeleteVar(New_HTML)\n",
    "            Maybe_HTML = DeletejsMVC(Soon_HTML)\n",
    "            Final_HTML = DeleteBigHTML(Maybe_HTML)\n",
    "            Finally_HTML = DeleteWindowHTML(Final_HTML)\n",
    "            result = re.sub('[-=+,#/\\?:^$.©@*\\\"※~&%ㆍ!』\\\\‘}|\\(\\)\\[}\\]\\<\\>`\\'…》]', '', Finally_HTML)  \n",
    "            result = result.split() \n",
    "            checking_result = checking(result)\n",
    "            sum_dict.update(checking_result)\n",
    "    \n",
    "        most_data = []\n",
    "        for (i, j) in sum_dict.items():\n",
    "            most_data.append((i,j))\n",
    "        most_data = sorted(most_data, key=lambda x: x[1], reverse = self.reverse)\n",
    "        return most_data\n",
    "    \n",
    "    def iter_method(self) :\n",
    "        c = self.getWordsFrequency()\n",
    "        a = input() \n",
    "        b = input()\n",
    "        if a[0:9] == 'for i in ' :\n",
    "            return True"
   ]
  },
  {
   "cell_type": "code",
   "execution_count": 319,
   "id": "433d7c53",
   "metadata": {},
   "outputs": [
    {
     "name": "stdout",
     "output_type": "stream",
     "text": [
      "[('이', 1), ('페이지를', 1), ('실행하려면', 1), ('자바스크립트를', 1), ('사용해야', 1), ('합니다본문', 1), ('검색창', 1), ('메인메뉴', 1), ('문화', 1), ('공동체', 1), ('히스토리', 1), ('기술', 1), ('ESG', 1), ('소셜임팩트', 1), ('디지털', 1), ('권리', 1), ('AI', 1), ('투자정보인재영입', 1), ('고객센터Daum', 1), ('고객센터멜론', 1), ('다크모드로', 1), ('변경하기', 1), ('영어로', 1), ('보기', 1), ('닫기', 1), ('홈', 1), ('본문', 1), ('현재', 1), ('페이지', 1), ('위치', 1), ('12월', 1), ('11일', 1), ('토요일', 1), ('소식개의', 1), ('업데이트된', 1), ('소식', 1), ('하단', 1), ('문화공동체히스토리', 1), ('기술서비스', 1), ('ESG소셜임팩트디지털', 1), ('권리AI', 1), ('투자정보', 1), ('기업지배구조주가정보재무정보IR행사공시정보공고', 1), ('인재영입사이트', 1), ('카카오계정사이트', 1), ('이용정보', 1), ('이용약관', 1), ('카카오계정', 1), ('위치기반서비스이용약관', 1), ('개인정보처리방침', 1), ('바로가기운영정책', 1), ('청소년보호정책', 1), ('바로가기권리침해신고안내', 1), ('공지사항', 1), ('바로가기사이버윤리실', 1), ('Contact', 1), ('Us', 1), ('관련사이트', 1), ('AI사이트', 1), ('프라이버시사이트', 1), ('디벨로퍼스사이트', 1), ('다음', 1), ('포털', 1), ('동반', 1), ('성장', 1), ('제주', 1), ('with', 1), ('kakao사이트', 1), ('Kakao', 1), ('Corp', 1), ('All', 1), ('rights', 1), ('reserved', 1), ('세븐틴', 1), ('This', 1), ('page', 1), ('uses', 1), ('The', 1), ('current', 1), ('browser', 1), ('you', 1), ('are', 1), ('using', 1), ('does', 1), ('not', 1), ('support', 1), ('GANGNEUNG', 1), ('CITY', 1), ('강릉시에', 1), ('오신', 1), ('것을', 1), ('환영합니다', 1), ('원활한', 1), ('접속을', 1), ('위해', 1), ('운영중입니다', 1), ('원하시는', 1), ('선택해', 1), ('주세요', 1), ('대표', 1), ('대응현황', 1), ('발생현황', 1), ('및', 1), ('대응상황', 1), ('안내', 1), ('강릉관광', 1), ('강릉여행', 1), ('향기로', 1), ('물들다', 1), ('COPYRIGHT', 1), ('Ⓒ', 1), ('2021', 1), ('GANGNEUNGSI', 1), ('ALL', 1), ('RIGHTS', 1), ('RESERVED', 1), ('KaKao', 2), ('메인', 2), ('열기', 2), ('뉴스', 2), ('기술과', 2), ('약속과', 2), ('책임', 2), ('윤리', 2), ('오늘의', 2), ('고객센터사이트', 2), ('기업사이트사이트', 2), ('사이트사이트', 2), ('frames', 2), ('강릉시청', 2), ('홈페이지', 2), ('서비스를', 2), ('코로나19', 2), ('고객센터', 3), ('강릉시', 3), ('메뉴', 4), ('서비스', 4), ('바로가기', 5), ('Daum', 6), ('서비스사이트', 11), ('카카오', 17)]\n",
      "[('카카오', 17), ('서비스사이트', 11), ('Daum', 6), ('바로가기', 5), ('메뉴', 4), ('서비스', 4), ('고객센터', 3), ('강릉시', 3), ('KaKao', 2), ('메인', 2), ('열기', 2), ('뉴스', 2), ('기술과', 2), ('약속과', 2), ('책임', 2), ('윤리', 2), ('오늘의', 2), ('고객센터사이트', 2), ('기업사이트사이트', 2), ('사이트사이트', 2), ('frames', 2), ('강릉시청', 2), ('홈페이지', 2), ('서비스를', 2), ('코로나19', 2), ('이', 1), ('페이지를', 1), ('실행하려면', 1), ('자바스크립트를', 1), ('사용해야', 1), ('합니다본문', 1), ('검색창', 1), ('메인메뉴', 1), ('문화', 1), ('공동체', 1), ('히스토리', 1), ('기술', 1), ('ESG', 1), ('소셜임팩트', 1), ('디지털', 1), ('권리', 1), ('AI', 1), ('투자정보인재영입', 1), ('고객센터Daum', 1), ('고객센터멜론', 1), ('다크모드로', 1), ('변경하기', 1), ('영어로', 1), ('보기', 1), ('닫기', 1), ('홈', 1), ('본문', 1), ('현재', 1), ('페이지', 1), ('위치', 1), ('12월', 1), ('11일', 1), ('토요일', 1), ('소식개의', 1), ('업데이트된', 1), ('소식', 1), ('하단', 1), ('문화공동체히스토리', 1), ('기술서비스', 1), ('ESG소셜임팩트디지털', 1), ('권리AI', 1), ('투자정보', 1), ('기업지배구조주가정보재무정보IR행사공시정보공고', 1), ('인재영입사이트', 1), ('카카오계정사이트', 1), ('이용정보', 1), ('이용약관', 1), ('카카오계정', 1), ('위치기반서비스이용약관', 1), ('개인정보처리방침', 1), ('바로가기운영정책', 1), ('청소년보호정책', 1), ('바로가기권리침해신고안내', 1), ('공지사항', 1), ('바로가기사이버윤리실', 1), ('Contact', 1), ('Us', 1), ('관련사이트', 1), ('AI사이트', 1), ('프라이버시사이트', 1), ('디벨로퍼스사이트', 1), ('다음', 1), ('포털', 1), ('동반', 1), ('성장', 1), ('제주', 1), ('with', 1), ('kakao사이트', 1), ('Kakao', 1), ('Corp', 1), ('All', 1), ('rights', 1), ('reserved', 1), ('세븐틴', 1), ('This', 1), ('page', 1), ('uses', 1), ('The', 1), ('current', 1), ('browser', 1), ('you', 1), ('are', 1), ('using', 1), ('does', 1), ('not', 1), ('support', 1), ('GANGNEUNG', 1), ('CITY', 1), ('강릉시에', 1), ('오신', 1), ('것을', 1), ('환영합니다', 1), ('원활한', 1), ('접속을', 1), ('위해', 1), ('운영중입니다', 1), ('원하시는', 1), ('선택해', 1), ('주세요', 1), ('대표', 1), ('대응현황', 1), ('발생현황', 1), ('및', 1), ('대응상황', 1), ('안내', 1), ('강릉관광', 1), ('강릉여행', 1), ('향기로', 1), ('물들다', 1), ('COPYRIGHT', 1), ('Ⓒ', 1), ('2021', 1), ('GANGNEUNGSI', 1), ('ALL', 1), ('RIGHTS', 1), ('RESERVED', 1)]\n"
     ]
    }
   ],
   "source": [
    "w4 = SearchEngineWithOrderedWebWords('http://www.kakao.com', 'http://www.seventeen-17.com/','https://www.gn.go.kr/' )\n",
    "print(w4.getWordsFrequency())\n",
    "print(w4.getWordsFrequency(reverse=True))"
   ]
  },
  {
   "cell_type": "markdown",
   "id": "e3d72c79",
   "metadata": {},
   "source": [
    "3. 다음과 같은 코딩이 가능하도록 SearchEngineWithOrderedWebWords안에 반복자와 관련된 메소드를 추가하시오"
   ]
  },
  {
   "cell_type": "code",
   "execution_count": 323,
   "id": "bb447e55",
   "metadata": {},
   "outputs": [
    {
     "name": "stdout",
     "output_type": "stream",
     "text": [
      "for i in w4:\n",
      "   print(i)\n"
     ]
    }
   ],
   "source": [
    "w4.iter_method()"
   ]
  },
  {
   "cell_type": "markdown",
   "id": "921827b7",
   "metadata": {},
   "source": [
    "소감 : 발전문제가 너무 어려웠다. 몇시간을 했지만, 답이 잘 안나온다. 2번문제에서 가장 최대 값이 나오지를 않는데, 그 이유를 잘 모르겠다.\n",
    "그래도 클래스에 적응한 것 같아서 유익했다."
   ]
  }
 ],
 "metadata": {
  "kernelspec": {
   "display_name": "Python 3",
   "language": "python",
   "name": "python3"
  },
  "language_info": {
   "codemirror_mode": {
    "name": "ipython",
    "version": 3
   },
   "file_extension": ".py",
   "mimetype": "text/x-python",
   "name": "python",
   "nbconvert_exporter": "python",
   "pygments_lexer": "ipython3",
   "version": "3.8.8"
  }
 },
 "nbformat": 4,
 "nbformat_minor": 5
}
