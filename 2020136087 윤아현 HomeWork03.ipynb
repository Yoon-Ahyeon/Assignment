{
 "cells": [
  {
   "cell_type": "markdown",
   "id": "77d2b69f",
   "metadata": {},
   "source": [
    "#문제 1번\n",
    "\n",
    "L=[1, 2, 3, 4, 5]일 때 다음 각 문장을 수행한 후의 결과를 보고 납득할 만한 이유를 설명하시오."
   ]
  },
  {
   "cell_type": "code",
   "execution_count": 48,
   "id": "dfd82b6d",
   "metadata": {
    "scrolled": true
   },
   "outputs": [
    {
     "name": "stdout",
     "output_type": "stream",
     "text": [
      "[1, 100, 4, 5]\n"
     ]
    }
   ],
   "source": [
    "L = [1, 2, 3, 4, 5]\n",
    "L[1:3] = [100]\n",
    "print(L)"
   ]
  },
  {
   "cell_type": "markdown",
   "id": "becbd9bc",
   "metadata": {},
   "source": [
    "리스트 L의 인덱스 1, 2의 값에 새로운 요소 100을 할당한다. "
   ]
  },
  {
   "cell_type": "code",
   "execution_count": 49,
   "id": "705d0e3c",
   "metadata": {},
   "outputs": [
    {
     "name": "stdout",
     "output_type": "stream",
     "text": [
      "[1, 100, 5]\n"
     ]
    }
   ],
   "source": [
    "L[1:3] = [(100)]\n",
    "print(L)"
   ]
  },
  {
   "cell_type": "markdown",
   "id": "54790e0c",
   "metadata": {},
   "source": [
    "리스트 L의 인덱스 1, 2의 값에 새로운 요소 100을 할당한다. \n",
    "[100]과 [(100)]은 같은 값을 나타내기 때문에 출력값도 동일하다."
   ]
  },
  {
   "cell_type": "code",
   "execution_count": 50,
   "id": "ee0665c1",
   "metadata": {
    "scrolled": false
   },
   "outputs": [
    {
     "ename": "TypeError",
     "evalue": "can only assign an iterable",
     "output_type": "error",
     "traceback": [
      "\u001b[1;31m---------------------------------------------------------------------------\u001b[0m",
      "\u001b[1;31mTypeError\u001b[0m                                 Traceback (most recent call last)",
      "\u001b[1;32m<ipython-input-50-0d5d54f04635>\u001b[0m in \u001b[0;36m<module>\u001b[1;34m\u001b[0m\n\u001b[1;32m----> 1\u001b[1;33m \u001b[0mL\u001b[0m\u001b[1;33m[\u001b[0m\u001b[1;36m1\u001b[0m\u001b[1;33m:\u001b[0m\u001b[1;36m3\u001b[0m\u001b[1;33m]\u001b[0m \u001b[1;33m=\u001b[0m \u001b[1;36m100\u001b[0m\u001b[1;33m\u001b[0m\u001b[1;33m\u001b[0m\u001b[0m\n\u001b[0m\u001b[0;32m      2\u001b[0m \u001b[0mprint\u001b[0m\u001b[1;33m(\u001b[0m\u001b[0mL\u001b[0m\u001b[1;33m)\u001b[0m\u001b[1;33m\u001b[0m\u001b[1;33m\u001b[0m\u001b[0m\n",
      "\u001b[1;31mTypeError\u001b[0m: can only assign an iterable"
     ]
    }
   ],
   "source": [
    "L[1:3] = 100\n",
    "print(L)"
   ]
  },
  {
   "cell_type": "markdown",
   "id": "95c6566c",
   "metadata": {},
   "source": [
    "리스트에서 하나의 값을 수정할 때는 하나의 요소를 넣어 변경할 수 있다. \n",
    "하지만, 리스트 L의 인덱스 1, 2가 나타내는 값(즉 두개의 값을 수정할 때)에 100이라는 요소 하나만을 집어 넣을 수 없다.\n",
    "출력이 되도록하기 위해서는 L[1:3] = 100, 으로 바꾸어줘야한다."
   ]
  },
  {
   "cell_type": "code",
   "execution_count": 51,
   "id": "f4100d6d",
   "metadata": {
    "scrolled": true
   },
   "outputs": [
    {
     "ename": "TypeError",
     "evalue": "can only assign an iterable",
     "output_type": "error",
     "traceback": [
      "\u001b[1;31m---------------------------------------------------------------------------\u001b[0m",
      "\u001b[1;31mTypeError\u001b[0m                                 Traceback (most recent call last)",
      "\u001b[1;32m<ipython-input-51-efd35df85453>\u001b[0m in \u001b[0;36m<module>\u001b[1;34m\u001b[0m\n\u001b[1;32m----> 1\u001b[1;33m \u001b[0mL\u001b[0m\u001b[1;33m[\u001b[0m\u001b[1;36m1\u001b[0m\u001b[1;33m:\u001b[0m\u001b[1;36m3\u001b[0m\u001b[1;33m]\u001b[0m \u001b[1;33m=\u001b[0m \u001b[1;33m(\u001b[0m\u001b[1;36m100\u001b[0m\u001b[1;33m)\u001b[0m\u001b[1;33m\u001b[0m\u001b[1;33m\u001b[0m\u001b[0m\n\u001b[0m\u001b[0;32m      2\u001b[0m \u001b[0mprint\u001b[0m\u001b[1;33m(\u001b[0m\u001b[0mL\u001b[0m\u001b[1;33m)\u001b[0m\u001b[1;33m\u001b[0m\u001b[1;33m\u001b[0m\u001b[0m\n",
      "\u001b[1;31mTypeError\u001b[0m: can only assign an iterable"
     ]
    }
   ],
   "source": [
    "L[1:3] = (100)\n",
    "print(L)"
   ]
  },
  {
   "cell_type": "markdown",
   "id": "57134b0c",
   "metadata": {},
   "source": [
    "위의 예제와 마찬가지로 100과 (100)은 동일 값을 나타내기 때문에 에러가 발생한다.\n",
    "마찬가지로 L[1:3] = (100,)으로 수정해줘야 한다."
   ]
  },
  {
   "cell_type": "code",
   "execution_count": 52,
   "id": "b0cb3220",
   "metadata": {},
   "outputs": [
    {
     "name": "stdout",
     "output_type": "stream",
     "text": [
      "[1, 100, 101, 102]\n"
     ]
    }
   ],
   "source": [
    "L[1:3] = (100, 101, 102)\n",
    "print(L)"
   ]
  },
  {
   "cell_type": "markdown",
   "id": "46b39556",
   "metadata": {},
   "source": [
    "리스트 L의 1, 2번째 요소에 새로운 요소 100, 101, 102를 할당한다.\n",
    "슬라이싱 범위와 할당할 리스트의 요소 개수를 맞추지 않아도 된다."
   ]
  },
  {
   "cell_type": "code",
   "execution_count": 53,
   "id": "4eb29190",
   "metadata": {},
   "outputs": [
    {
     "name": "stdout",
     "output_type": "stream",
     "text": [
      "[1, 100, 101, 102, 102]\n"
     ]
    }
   ],
   "source": [
    "L[1:3] = [100, 101, 102]\n",
    "print(L)"
   ]
  },
  {
   "cell_type": "markdown",
   "id": "0ac9f9c5",
   "metadata": {},
   "source": [
    "위의 예제와 마찬가지로 100, 101, 102로 값을 변경한다."
   ]
  },
  {
   "cell_type": "code",
   "execution_count": 54,
   "id": "92aa8542",
   "metadata": {},
   "outputs": [
    {
     "name": "stdout",
     "output_type": "stream",
     "text": [
      "[1, (100, 101, 102), 102, 102]\n"
     ]
    }
   ],
   "source": [
    "L[1:3] = [(100, 101, 102)]\n",
    "print(L)"
   ]
  },
  {
   "cell_type": "markdown",
   "id": "c4dc6497",
   "metadata": {},
   "source": [
    "리스트의 요소 값을 변경할 때 다른 자료형으로 수정이 가능하다.\n",
    "(100, 101, 102)는 튜플을 나타내기 때문에 1, 2 번째 요소들이 튜플로 변경된다."
   ]
  },
  {
   "cell_type": "code",
   "execution_count": 55,
   "id": "2a63ea6c",
   "metadata": {},
   "outputs": [
    {
     "name": "stdout",
     "output_type": "stream",
     "text": [
      "[1, [100, 101, 102], 102]\n"
     ]
    }
   ],
   "source": [
    "L[1:3] = [[100, 101, 102]]\n",
    "print(L)"
   ]
  },
  {
   "cell_type": "markdown",
   "id": "dcb61a59",
   "metadata": {},
   "source": [
    "[100, 101, 102]는 리스트를 나타내고 1, 2번째 요소들을 리스트 [100, 101, 102]로 바꾼다."
   ]
  },
  {
   "cell_type": "markdown",
   "id": "d35d6ae6",
   "metadata": {},
   "source": [
    "#문제 2번\n",
    "\n",
    "문자열 S = 'Hello World and Python'에 대해 다음 요구사항에 대한 Python 코드를 제시하시오.\n",
    "1) 단어의 순서가 역순으로 되어진 문자열 ('Python and World Hello')을 만들고\n",
    "2) 1)의 결과 문자열에 대해 메소드 split과 join을 이용하여 공백을 모두 없엔 문자열 'PythonandWorldHello'을 만드시오."
   ]
  },
  {
   "cell_type": "code",
   "execution_count": 46,
   "id": "d3248654",
   "metadata": {},
   "outputs": [
    {
     "name": "stdout",
     "output_type": "stream",
     "text": [
      "Python and World Hello \n",
      "PythonandWorldHello\n"
     ]
    }
   ],
   "source": [
    "S = 'Hello World and Python'\n",
    "S = S[16:22] + S[11:15] + S[5:12] + S[0:6]\n",
    "print(S)\n",
    "\n",
    "split_S = S.split()\n",
    "String_S = \"\".join(split_S)\n",
    "print(String_S)"
   ]
  },
  {
   "cell_type": "markdown",
   "id": "d4a06cea",
   "metadata": {},
   "source": [
    "1.문자열 슬라이싱 기법을 사용하여 역순으로 문자열을 만들어 변수에 다시 저장한다.\n",
    "\n",
    "2.split을 사용하여 공백을 기준으로 문자열이 리스트로 나누어 출력되게 한다.\n",
    "\n",
    "3.join을 사용하여 리스트의 문자열들을 합친다."
   ]
  },
  {
   "cell_type": "markdown",
   "id": "fe6abfae",
   "metadata": {},
   "source": [
    "#문제 3번\n",
    "\n",
    "다음 코드를 보고 물음에 답하시오.\n",
    "1) 위 코드를 수행한 이후 다음 코드를 수행한 후 b와 c의 내용을 확인하시오.\n",
    "2) b와 c 객체의 차이는 무엇인가?"
   ]
  },
  {
   "cell_type": "code",
   "execution_count": 45,
   "id": "d94ef3a8",
   "metadata": {},
   "outputs": [
    {
     "name": "stdout",
     "output_type": "stream",
     "text": [
      "[1, 2, 3, 1, 2, 3, 1, 2, 3]\n",
      "[[1, 2, 3], [1, 2, 3], [1, 2, 3]]\n",
      "[1, 2, 3, 1, 2, 3, 1, 2, 3]\n",
      "[[0, 2, 3], [0, 2, 3], [0, 2, 3]]\n"
     ]
    }
   ],
   "source": [
    "a = [1, 2, 3]\n",
    "b = a * 3\n",
    "c = [a] * 3\n",
    "print(b)\n",
    "print(c)\n",
    "\n",
    "a[0] = 0\n",
    "print(b)\n",
    "print(c)"
   ]
  },
  {
   "cell_type": "markdown",
   "id": "c26d6ced",
   "metadata": {},
   "source": [
    "리스트 연산자 곱셈은 반복을 나타낸다.\n",
    "b : 리스트 안에 있는 요소들을 3번 반복하여 합쳐진 새로운 리스트로 나타낸다.\n",
    "-a와 b는 다른 객체이다.\n",
    "\n",
    "c : 리스트를 3번 반복하여 리스트에 저장한다. \n",
    "-c는 a를 참조하기 때문에 a의 요소가 바뀌면, c의 요소도 변경된다. \n"
   ]
  },
  {
   "cell_type": "markdown",
   "id": "fd7f109a",
   "metadata": {},
   "source": [
    "#문제 4번\n",
    "\n",
    "다음 문자열을 ':'을 기준으로 분리하여 리스트로 만들고 각 문자열의 좌우 공백을 제거하시오 (즉, 문자열 S에서 l을 만들어라)\n",
    "\n",
    "1) for ~ in 문을 이용한 코드를 작성하시오.\n",
    "2) 리스트 내포(list comprehension)를 이용한 코드를 작성하시오."
   ]
  },
  {
   "cell_type": "code",
   "execution_count": 43,
   "id": "ec627b0b",
   "metadata": {},
   "outputs": [
    {
     "name": "stdout",
     "output_type": "stream",
     "text": [
      "['  first star  ', '  second star  ', '  third star  ']\n",
      "['first star', 'second star', 'third star']\n"
     ]
    }
   ],
   "source": [
    "s = '  first star  :  second star  :  third star  '\n",
    "\n",
    "I = s.split(':')\n",
    "print(I)\n",
    "for i in range(len(I)) :\n",
    "    I[i] = I[i].strip()\n",
    "\n",
    "print(I)"
   ]
  },
  {
   "cell_type": "code",
   "execution_count": 44,
   "id": "a09b9c80",
   "metadata": {},
   "outputs": [
    {
     "name": "stdout",
     "output_type": "stream",
     "text": [
      "['  first star  ', '  second star  ', '  third star  ']\n",
      "{'third star', 'first star', 'second star'}\n"
     ]
    }
   ],
   "source": [
    "L = s.split(':')\n",
    "print(L)\n",
    "\n",
    "L = { L[j].strip() for j in range(len(L)) }\n",
    "print(L)"
   ]
  },
  {
   "cell_type": "markdown",
   "id": "4e30113d",
   "metadata": {},
   "source": [
    "1.for ~ in \n",
    "split()을 사용하여 문자열을 ':' 기준으로 나눈어 리스트에 저장한다.\n",
    "리스트의 크기만큼 반복문을 반복하여 요소에 공백이 있다면 좌우 공백을 제거해주는 strip()을 사용하여 제거한다.\n",
    "\n",
    "2.리스트 내포\n",
    "리스트 내포를 사용하여 좌우 공백을 제거해준다."
   ]
  },
  {
   "cell_type": "markdown",
   "id": "cb375584",
   "metadata": {},
   "source": [
    "#문제 5번\n",
    "\n",
    "다음과 같이 0보다 큰 정수 리스트 변수 list를 인자로 받는 함수 addall(list)와 addallodd(list)를 \n",
    "for ~ in 리터널과 리스트 내포 방식으로 각각 제시하시오.\n",
    "1) addall(list) 함수 (리스트 내의 모든 정수를 더하는 함수로서 해답으로는 for ~ in 리터럴과 리스트 내포 방식으로 각각 제시하시오.)"
   ]
  },
  {
   "cell_type": "code",
   "execution_count": 42,
   "id": "7835d48b",
   "metadata": {},
   "outputs": [
    {
     "name": "stdout",
     "output_type": "stream",
     "text": [
      "1\n",
      "45\n",
      "1\n",
      "45\n"
     ]
    }
   ],
   "source": [
    "def addall_ver1(list) :\n",
    "    sum = 0\n",
    "    for i in range (len(list)) :\n",
    "        if(list[i] > 0) :\n",
    "            sum += list[i]\n",
    "        \n",
    "    return sum\n",
    "    \n",
    "print(addall_ver1([1]))\n",
    "print(addall_ver1([1, 2, 3, 4, 5, 6, 7, 8, 9]))\n",
    "\n",
    "\n",
    "def addall_ver2(list) :\n",
    "    result = sum([list[i] for i in range(len(list)) if (list[i] > 0)])\n",
    "    return result\n",
    "\n",
    "print(addall_ver2([1]))\n",
    "print(addall_ver2([1, 2, 3, 4, 5, 6, 7, 8, 9]))\n"
   ]
  },
  {
   "cell_type": "code",
   "execution_count": 41,
   "id": "86ff3c60",
   "metadata": {},
   "outputs": [
    {
     "name": "stdout",
     "output_type": "stream",
     "text": [
      "1\n",
      "25\n",
      "1\n",
      "25\n"
     ]
    }
   ],
   "source": [
    "def addallodd_ver1(list) :\n",
    "    sum = 0\n",
    "    for i in range (len(list)) :\n",
    "        if list[i] > 0 : \n",
    "            if list[i] % 2 == 0 :\n",
    "                continue\n",
    "            sum += list[i]\n",
    "        \n",
    "    return sum\n",
    "    \n",
    "def addallodd_ver2(list) :\n",
    "    result = sum([list[i] for i in range(len(list)) if (list[i] > 0) if (list[i]%2 != 0) ])\n",
    "    \n",
    "    return result\n",
    "    \n",
    "print(addallodd_ver1([1]))\n",
    "print(addallodd_ver1([1, 2, 3, 4, 5, 6, 7, 8, 9]))\n",
    "print(addallodd_ver2([1]))\n",
    "print(addallodd_ver2([1, 2, 3, 4, 5, 6, 7, 8, 9]))"
   ]
  },
  {
   "cell_type": "markdown",
   "id": "6c277317",
   "metadata": {},
   "source": [
    "1) addall 함수\n",
    "1.for ~ in문\n",
    "리스트 모든 요소의 합을 저장할 변수 sum을 0으로 초기화한다.\n",
    "반복문을 사용하여 리스트의 요소가 0보다 크면(if문 사용), 리스트의 요소와 sum을 더한 값을 sum에 저장한다. \n",
    "2.리스트 내포\n",
    "내장함수 sum()을 사용하여 리스트의 요소들이 0보다 크면 (if문 사용), 요소를 더한다.\n",
    "-내장함수를 사용하기 때문에 따로 합을 나타내는 변수를 만들어 초기화해줄 필요가 없다.\n",
    "\n",
    "2) addallodd 함수\n",
    "addall 함수와 비슷한 코드지만, 홀수인지 확인하는 코드를 추가로 작성해줘야 한다."
   ]
  },
  {
   "cell_type": "markdown",
   "id": "72f1198c",
   "metadata": {},
   "source": [
    "#문제 6번\n",
    "\n",
    "다음 코드를 보고 물음에 답하시오.\n",
    "1) 위 코드의 수행 결과 d와 e는 항상 같은 결과를 출력한다. 그 이유는 무엇인가?\n",
    "\n",
    "2) 위 코드의 수행 결과 마지막 f의 내용은 다음과 같다. \n",
    "\n",
    "이 때 'high' 키의 값 내용 중 500이 출력된 이유와 'low' 키의 값 내용 중 [1, 2, 3]이 출력된 이유를 설명하시오\n",
    "([hint]: shallow copy 관점에서 설명하시오.)"
   ]
  },
  {
   "cell_type": "code",
   "execution_count": 40,
   "id": "c715773c",
   "metadata": {},
   "outputs": [
    {
     "name": "stdout",
     "output_type": "stream",
     "text": [
      "{'low': [1, 2, 3], 'high': [4, 5, 6]}\n",
      "{'low': [1, 2, 3], 'high': [4, 5, 6]}\n",
      "{'low': [1, 2, 3], 'high': [4, 5, 6]}\n",
      "\n",
      "{'low': [10, 20, 30], 'high': [4, 500, 6]}\n",
      "{'low': [10, 20, 30], 'high': [4, 500, 6]}\n",
      "{'low': [1, 2, 3], 'high': [4, 500, 6]}\n"
     ]
    }
   ],
   "source": [
    "L1 = [1, 2, 3]\n",
    "L2 = [4, 5, 6]\n",
    "d = {'low':L1, 'high':L2}\n",
    "e = d\n",
    "f = d.copy()\n",
    "print(d)\n",
    "print(e)\n",
    "print(f)\n",
    "print()\n",
    "d['low'] = [10, 20, 30]\n",
    "d['high'][1] = 500\n",
    "print(d)\n",
    "print(e)\n",
    "print(f)"
   ]
  },
  {
   "cell_type": "markdown",
   "id": "0e116d80",
   "metadata": {},
   "source": [
    "d는 딕셔너리이기 때문에 key인 low, high에 각각 value값인 L1과 L2가 들어간다.\n",
    "\n",
    "e에 d를 대입하였기 때문에 e와 d는 데이터를 담고 있는 주소 값이 같다.\n",
    "\n",
    "하지만, 얕은 복사를 활용해 만들어진 f는 e와 d와 주소값이 다른 객체이다.\n",
    "\n",
    "그렇기 때문에 d의 key가 가리키는 value값을 변경하면, d와 e는 변경되지만, f는 변경되지 않는다.\n",
    "하지만, d의 value값이 가리키는 요소를 바꾼다면, key가 가리키는 value가 아닌 이 안의 원소가 변경된 것이 때문에 f도 같이 변경되게 된다.\n",
    "\n"
   ]
  },
  {
   "cell_type": "markdown",
   "id": "d1368ca4",
   "metadata": {},
   "source": [
    "#문제 7번.\n",
    "\n",
    "사전 d = {'one':1, 'two':2, 'three':3, 'four':4, 'five':5}가 주어졌을 때 다음 요구사항에 맞는 코드를 제시하시오"
   ]
  },
  {
   "cell_type": "code",
   "execution_count": 38,
   "id": "b4502046",
   "metadata": {
    "scrolled": true
   },
   "outputs": [
    {
     "name": "stdout",
     "output_type": "stream",
     "text": [
      "[('five', 5), ('four', 4), ('one', 1), ('three', 3), ('two', 2)]\n",
      "[('two', 2), ('three', 3), ('one', 1), ('four', 4), ('five', 5)]\n"
     ]
    }
   ],
   "source": [
    "d = {'one':1, 'two':2, 'three':3, 'four':4, 'five':5}\n",
    "d_list = list(d.items())\n",
    "\n",
    "d_list.sort(key = lambda x : x[0])\n",
    "print(d_list)\n",
    "\n",
    "d_list.sort(key = lambda x : x[0], reverse = True)\n",
    "print(d_list)"
   ]
  },
  {
   "cell_type": "markdown",
   "id": "585a3db9",
   "metadata": {},
   "source": [
    "딕셔너리에서 key와 value값이 튜플로 담겨져 있는 d.items()를 사용하여 리스트로 변환한다.\n",
    "정렬을 나태는 sort() 함수를 사용한다.\n",
    "튜플에서 키 값은 인덱스 0이 나타내고 있기 때문에 lambda를 사용하여 알파벳 오름차순으로 정렬한다.\n",
    "내림차순으로 정렬하기 위해서는 reverse = True를 사용하여 오름차순의 역으로 정렬을 한다."
   ]
  },
  {
   "cell_type": "code",
   "execution_count": 39,
   "id": "e28b9b6c",
   "metadata": {},
   "outputs": [
    {
     "name": "stdout",
     "output_type": "stream",
     "text": [
      "[('one', 1), ('two', 2), ('three', 3), ('four', 4), ('five', 5)]\n",
      "[('five', 5), ('four', 4), ('three', 3), ('two', 2), ('one', 1)]\n"
     ]
    }
   ],
   "source": [
    "d_list.sort(key = lambda x : x[1])\n",
    "print(d_list)\n",
    "\n",
    "d_list.sort(key = lambda x : x[1], reverse = True)\n",
    "print(d_list)"
   ]
  },
  {
   "cell_type": "markdown",
   "id": "a29300ba",
   "metadata": {},
   "source": [
    "튜플에서 value 값은 인덱스 1이 나타내고 있기 때문에 위의 코드와 반대로 x[1]을 반환값으로 설정한다.\n",
    "내림차순으로 정렬하기 위해서는 똑같이 reverse = True를 사용한다."
   ]
  },
  {
   "cell_type": "markdown",
   "id": "451ae6a3",
   "metadata": {},
   "source": [
    "#문제 8번\n",
    "\n",
    "다음 문제를 정확히 읽고 적합한 코딩을 제시하시오.\n",
    "length(X)를 다음과 같이 정의한다 : 10진수로 표현된 X의 자릿수\n",
    "Strange라는 숫자를 아래과 같이 정의한다.\n",
    "음이 아닌 정수 중 자릿수가 1인 모든 숫자는 Strange이다.\n",
    "length(X) > 1 인 숫자 X 는 다음 2가지를 만족하면 Strange이다.\n",
    "X는 length(X)로 정확히 나누어 떨어진다.\n",
    "X / length(X) 가 strnage이다.\n",
    "\n",
    "이 문제에서 숫자 하나가 주어질 때, 이 숫자가 Strange인지 판단하는 함수 isStrange(num)을 작성하시오.\n",
    "isStrange(num) 함수가 재귀적인 함수가 되도록 작성해 보세요."
   ]
  },
  {
   "cell_type": "code",
   "execution_count": 34,
   "id": "c3650e23",
   "metadata": {},
   "outputs": [],
   "source": [
    "def length(x) :\n",
    "    \n",
    "    length = 0\n",
    "    \n",
    "    while(x > 0) :\n",
    "        x = x // 10\n",
    "        length += 1\n",
    "        \n",
    "    return length"
   ]
  },
  {
   "cell_type": "code",
   "execution_count": 35,
   "id": "a056be1c",
   "metadata": {},
   "outputs": [],
   "source": [
    "def isStrange(num) :\n",
    "    \n",
    "    check = False\n",
    "    \n",
    "    if num == 0 :\n",
    "        check = True\n",
    "        return check\n",
    "    \n",
    "    elif num % length(num) == 0 : \n",
    "        check = True\n",
    "        return check\n",
    "        \n",
    "    elif length(num) == 1 :\n",
    "        check = True\n",
    "        return check\n",
    "        \n",
    "    elif num < 0 :\n",
    "        return check\n",
    "    \n",
    "    elif isinstance(num, int) != True :\n",
    "        return check\n",
    "    \n",
    "    else :\n",
    "        return isStrange(num / length(num))\n"
   ]
  },
  {
   "cell_type": "code",
   "execution_count": 36,
   "id": "feaa38ea",
   "metadata": {},
   "outputs": [
    {
     "name": "stdout",
     "output_type": "stream",
     "text": [
      "True\n",
      "True\n",
      "False\n",
      "True\n",
      "False\n"
     ]
    }
   ],
   "source": [
    "print(isStrange(0))\n",
    "print(isStrange(56))\n",
    "print(isStrange(100))\n",
    "print(isStrange(7882602506492313600))\n",
    "print(isStrange(6012302549522098651))"
   ]
  },
  {
   "cell_type": "markdown",
   "id": "96883a5b",
   "metadata": {},
   "source": [
    "legth(x) 함수\n",
    "\n",
    "10진수로 표현된 x의 자릿수를 나타내기 위한 함수로 x가 0보다 클 동안, x를 10으로 나눈 값을 x에 저장하고, 길이를 1씩 올려준다.\n",
    "\n",
    "isStrange(num) 함수\n",
    "\n",
    "num이 Strange인지 아닌지를 True와 False로 나타내야 하기 때문에 변수 check를 False로 초기화해주었다.\n",
    "예외처리로 num이 0인 경우는 True를 반환하도록 설정하였다.\n",
    "num이 자신의 자릿수(length(num))으로 나누어진다면,check에 True를 대입하고 반환한다.\n",
    "자릿수가 1이면 무조건 True이기 때문에 length(num)이 1과 같은 경우도 check에 True를 대입하고 반환한다.\n",
    "모든 조건에 맞지 않으면 재귀함수를 사용하여 num을 자릿수로 나눈 값을 isStrange()의 매개변수로 설정한다.\n",
    "만일 재귀함수를 통해 다시 함수를 반복하였을 때, 매개변수가 0보다 작거나  정수가 아닐 때를 대비하여 다른 조건문도 추가하였다.\n",
    "isinstance() 함수를 사용하여 만일 매개변수가 정수(int)가 아니라면 check를 반환하도록 하였다.\n"
   ]
  },
  {
   "cell_type": "markdown",
   "id": "2acde791",
   "metadata": {},
   "source": [
    "#문제 9번\n",
    "\n",
    "다음 문제를 정확히 읽고 적합한 코딩을 제시하시오.\n",
    "\n",
    "-1번 그룹, 2번 그룹, ... n번 그룹으로 번호가 매겨진 총 n개의 그룹이 존재하고, ith 그룹에는 임의의 팀원 수 ai 명이 있다.\n",
    "하나의 버스 정류장이 있고, 버스는 오직 한 대만 운영한다. 버스는 버스 정류장에 도착하고 모든 그룹은 버스를 통해 여행하길 원한다.\n",
    "하지만, 같은 그룹에 속한 팀원들은 분리되기를 원치 않는다. 그래서 그룹의 모든 팀원이 탈 수 있을 때 에만 그 그룹은 버스에 탑승한다.\n",
    "또한, 이들은 그룹의 번호순으로 여행을 하길 원한다. 예를 들어, 3번 그룹은 1번 그룹과 2번 그룹이 여행을 한 뒤에 버스를 탈 수 있거나, 1번 그룹과 2번 그룹이 이미 버스에 탑승한 상태에 있을 때 동시에 버스를 탈 수 있다.\n",
    "마지막으로, 버스는 빈 좌석이 없을 때 에만 여행을 떠난다.\n",
    "\n",
    "-이 문제에서 각 그룹의 팀원 수가 리스트로 주어질 때, 가능한 모든 버스의 사이즈 x(x명의 사람들이 동시에 탈 수 있음)를 반환하는 함수 solve(a) 를 작성하시오.\n",
    "반드시 계산 복잡도를 최대한 낮추세요. 아래 예시 3번을 실행했을 때 결과가 바로 나타날 수 있도록!!"
   ]
  },
  {
   "cell_type": "code",
   "execution_count": 33,
   "id": "698f361d",
   "metadata": {},
   "outputs": [
    {
     "name": "stdout",
     "output_type": "stream",
     "text": [
      "[3, 4, 6, 12]\n",
      "[1, 2, 4]\n",
      "[9999, 19998, 39996, 49995, 79992, 99990, 159984, 199980, 249975, 319968, 399960, 499950, 799920, 999900, 1249875, 1599840, 1999800, 2499750, 3999600, 4999500, 6249375, 7999200, 9999000, 12498750, 19998000, 24997500, 31246875, 39996000, 49995000, 62493750, 99990000, 124987500, 199980000, 249975000, 499950000, 999900000]\n"
     ]
    }
   ],
   "source": [
    "def findDivisor(list) :\n",
    "    \n",
    "    num = sum(list)\n",
    "    \n",
    "    divisor = []\n",
    "    for j in range(1, num+1) :\n",
    "        if (num % j == 0) :\n",
    "            divisor.append(j)\n",
    "            \n",
    "    return divisor\n",
    "\n",
    "def solve(list) :\n",
    "    \n",
    "    Divisor = findDivisor(list)\n",
    "    solve = []\n",
    "    \n",
    "    for i in range(len(Divisor)) : \n",
    "        check = True\n",
    "        idx = 0\n",
    "        list_sum = Divisor[i] \n",
    "        sum = 0 \n",
    "        \n",
    "        while(check != False) :\n",
    "            \n",
    "            if idx == len(list) -1 :\n",
    "                solve.append(Divisor[i])\n",
    "                break\n",
    "                \n",
    "            elif (sum+list[idx]) == list_sum :\n",
    "                sum = 0\n",
    "                idx+=1\n",
    "                continue\n",
    "                \n",
    "            elif (sum+list[idx]) < list_sum :\n",
    "                sum += list[idx]\n",
    "                idx+=1\n",
    "                continue\n",
    "                \n",
    "            elif (sum+list[idx]) > list_sum :\n",
    "                check = False\n",
    "                break\n",
    "    \n",
    "    return solve\n",
    "\n",
    "print(solve([1, 2, 1, 1, 1, 2, 1, 3]))\n",
    "print(solve([1, 1, 1, 1] ))\n",
    "print(solve([9999] * 10**5 ))             \n",
    "        "
   ]
  },
  {
   "cell_type": "markdown",
   "id": "15050cf8",
   "metadata": {},
   "source": [
    "findDivisor(list) 함수\n",
    "\n",
    "약수를 찾는 함수로 내장함수 sum을 사용하여 리스트 내 모든 요소들을 더한다.\n",
    "반복문을 사용하여 약수를 찾는다.\n",
    "\n",
    "solve(list) 함수\n",
    "약수 리스트의 길이만큼 반복문을 반복한다.\n",
    "list_sum을 Divisor의 요소의 값으로 설정하여 사람들이 list_sum만큼 조건에 맞게 모일 수 있는냐를 본다.\n",
    "리스트의 요소들을 더하면서 list_sum보다 요소들을 더한 값이 작으면 다음 요소를 더한다.\n",
    "만일 더한 값이 크면, 이 약수만큼의 사람이 못모이기 때문에 False를 반환한다.\n",
    "list_sum과 사람이 모인 합이 같으면, 다음 요소들도 동일하게 모일 수 있는지 확인을 하기 위해 sum을 0으로 초기화한다.\n",
    "마지막 idx까지 반복을 하였다면, 사람이 조건에 맞게 모일 수 있는 것이므로 slove 리스트에 값을 추가한다.\n",
    "\n",
    "\n",
    "*시간복잡도를 최대한 줄이려고 노력을 했지만, 아직 시간복잡도에 대한 이해도가 부족하여 실행이 오래 걸려서 아쉬웠다.\n",
    "\n"
   ]
  },
  {
   "cell_type": "markdown",
   "id": "7c0a8322",
   "metadata": {},
   "source": [
    "#Incremental Project 문제 "
   ]
  },
  {
   "cell_type": "code",
   "execution_count": null,
   "id": "22370e00",
   "metadata": {},
   "outputs": [],
   "source": [
    "#link 1, 2\n",
    "\n",
    "import requests\n",
    "import re\n",
    "\n",
    "req = requests.get('http://www.kakao.com')\n",
    "source_1 = req.text\n",
    "\n",
    "deq = requests.get('http://www.seventeen-17.com/')\n",
    "source_2 = deq.text"
   ]
  },
  {
   "cell_type": "code",
   "execution_count": 32,
   "id": "95eb80a6",
   "metadata": {},
   "outputs": [
    {
     "name": "stdout",
     "output_type": "stream",
     "text": [
      "{'카카오': 17, '이': 1, '페이지를': 1, '실행하려면': 1, '자바스크립트를': 1, '사용해야': 1, '합니다본문': 1, '바로가기': 22, '메뉴': 4, 'KaKao': 2, '메인': 2, '열기': 2, '검색창': 1, '메인메뉴': 1, '문화': 1, '공동체': 1, '히스토리': 1, '뉴스': 2, '기술과': 2, '서비스': 4, '기술': 1, '약속과': 2, '책임': 2, 'ESG': 1, '소셜임팩트': 1, '디지털': 1, '권리': 1, 'AI': 1, '윤리': 2, '투자정보인재영입': 1, '고객센터': 3, '고객센터Daum': 1, '고객센터멜론': 1, '다크모드로': 1, '변경하기': 1, '영어로': 1, '보기': 1, '닫기': 1, '홈': 1, '본문': 1, '현재': 1, '페이지': 1, '위치': 1, '오늘의': 2, '10월': 1, '22일': 1, '금요일': 1, '소식개의': 1, '업데이트된': 1, '소식': 1, '하단': 1, '문화공동체히스토리': 1, '기술서비스': 1, 'ESG소셜임팩트디지털': 1, '권리AI': 1, '투자정보': 1, '기업지배구조주가정보재무정보IR행사공시정보공고': 1, '고객센터사이트': 2, 'Daum': 6, '인재영입사이트': 1, '카카오계정사이트': 1, '이용정보': 1, '이용약관': 1, '카카오계정': 1, '서비스사이트': 11, '위치기반서비스이용약관': 1, '개인정보처리방침': 1, '기업사이트사이트': 2, '바로가기운영정책': 1, '청소년보호정책': 1, '바로가기권리침해신고안내': 1, '공지사항': 1, '바로가기사이버윤리실': 1, 'Contact': 1, 'Us': 1, '관련사이트': 1, 'AI사이트': 1, '프라이버시사이트': 1, '디벨로퍼스사이트': 1, '다음': 1, '포털': 1, '사이트사이트': 2, '동반': 1, '성장': 1, '제주': 1, 'with': 1, 'kakao사이트': 1, 'Kakao': 1, 'Corp': 1, 'All': 1, 'rights': 1, 'reserved': 1}\n",
      "-----------------------------------------------------------------------------------------------------------\n",
      "{'세븐틴': 1, 'This': 1, 'page': 1, 'uses': 1, 'frames': 2, 'The': 1, 'current': 1, 'browser': 1, 'you': 1, 'are': 1, 'using': 1, 'does': 1, 'not': 1, 'support': 1}\n"
     ]
    }
   ],
   "source": [
    "import requests\n",
    "import re\n",
    "\n",
    "req = requests.get('http://www.kakao.com')\n",
    "source_1 = req.text\n",
    "\n",
    "deq = requests.get('http://www.seventeen-17.com/')\n",
    "source_2 = deq.text\n",
    "\n",
    "def Checkblock(link) :\n",
    "    \n",
    "    check = False\n",
    "    \n",
    "    for i in range(len(link)) :\n",
    "        \n",
    "        if link[i] == '<' :\n",
    "            check = True\n",
    "            break\n",
    "            \n",
    "        elif link[i] == '>' :\n",
    "            check = True\n",
    "            break   \n",
    "            \n",
    "        else :\n",
    "            continue\n",
    "            \n",
    "    return check\n",
    "\n",
    "\n",
    "def Countblock(link) :\n",
    "    \n",
    "    count = 0\n",
    "    num = 0\n",
    "    \n",
    "    for i in range(0, len(link)) : \n",
    "        if link[i] == '<'  :\n",
    "            num = i\n",
    "            for j in range(i, len(link)) : \n",
    "                if link[j] != '>'  :\n",
    "                    count += 1\n",
    "                    continue\n",
    "\n",
    "                elif link[j] == '>' :\n",
    "                    count += 1\n",
    "                    break\n",
    "            break\n",
    "        else :\n",
    "            continue\n",
    "            \n",
    "    link = link[ : num] + link[num+count : ]\n",
    "    \n",
    "    return link\n",
    "    \n",
    "def DeleteHTML(link) :\n",
    "    \n",
    "    HTML = Countblock(link)\n",
    "    \n",
    "    while Checkblock(HTML) == True :\n",
    "        \n",
    "        HTML = Countblock(HTML)\n",
    "        \n",
    "        continue\n",
    "    \n",
    "    return HTML\n",
    "\n",
    "def CheckVar(link) :\n",
    "    \n",
    "    check = False\n",
    "    \n",
    "    for i in range(len(link)) :\n",
    "        \n",
    "        if link[i:i+3] == 'var' :\n",
    "            check = True\n",
    "            break\n",
    "            \n",
    "        else :\n",
    "            continue\n",
    "            \n",
    "    return check\n",
    "\n",
    "\n",
    "def CountVar(link) :\n",
    "    \n",
    "    count = 0\n",
    "    num = 0\n",
    "    \n",
    "    for i in range(0, len(link)) :  \n",
    "        if link[i:i+3] == 'var'  :\n",
    "            num = i\n",
    "            for j in range(i, len(link)) : \n",
    "                if link[j] != ';' :\n",
    "                    count += 1\n",
    "                    continue\n",
    "                elif link[j] == ';':\n",
    "                    count += 1\n",
    "                    break\n",
    "            break\n",
    "        else :\n",
    "            continue\n",
    "            \n",
    "    link = link[ : num] + link[num+count : ]\n",
    "    \n",
    "    return link\n",
    "\n",
    "def DeleteVar(link) :\n",
    "    \n",
    "    var_HTML = CountVar(link)\n",
    "    \n",
    "    while CheckVar(var_HTML) == True :\n",
    "        \n",
    "        var_HTML = CountVar(var_HTML)\n",
    "        \n",
    "        continue\n",
    "    \n",
    "    return var_HTML\n",
    "\n",
    "\n",
    "def CheckjsMVC(link) :\n",
    "    \n",
    "    check = False\n",
    "    \n",
    "    for i in range(len(link)) :\n",
    "        \n",
    "        if link[i:i+5] == 'jsMVC' :\n",
    "            check = True\n",
    "            break\n",
    "\n",
    "        else :\n",
    "            continue\n",
    "            \n",
    "    return check\n",
    "\n",
    "\n",
    "def CountjsMVC(link) :\n",
    "    \n",
    "    count = 0\n",
    "    num = 0\n",
    "    \n",
    "    for i in range(0, len(link)) :  \n",
    "        if link[i:i+5] == 'jsMVC'  :\n",
    "            num = i\n",
    "            for j in range(i, len(link)) : \n",
    "                if link[j] != ';' :\n",
    "                    count += 1\n",
    "                    continue\n",
    "                elif link[j] == ';':\n",
    "                    count += 1\n",
    "                    break\n",
    "            break\n",
    "        else :\n",
    "            continue\n",
    "            \n",
    "    link = link[ : num] + link[num+count : ]\n",
    "    \n",
    "    return link\n",
    "\n",
    "def DeletejsMVC(link) :\n",
    "    \n",
    "    jsMVC_HTML = CountjsMVC(link)\n",
    "    \n",
    "    while CheckjsMVC(jsMVC_HTML) == True :\n",
    "        \n",
    "        jsMVC_HTML = CountjsMVC(jsMVC_HTML)\n",
    "        \n",
    "        continue\n",
    "    \n",
    "    return jsMVC_HTML\n",
    "\n",
    "def CheckBigblock(link) :\n",
    "    \n",
    "    check = False\n",
    "    \n",
    "    for i in range(len(link)) :\n",
    "        \n",
    "        if link[i] == '{' :\n",
    "            check = True\n",
    "            break\n",
    "        else :\n",
    "            continue\n",
    "            \n",
    "    return check\n",
    "\n",
    "\n",
    "def CountBigblock(link) :\n",
    "    \n",
    "    count = 0\n",
    "    num = 0\n",
    "    \n",
    "    for i in range(0, len(link)) :  \n",
    "        if link[i] == '{'  :\n",
    "            num = i\n",
    "            for j in range(i, len(link)) : \n",
    "                if link[j] != '}'  :\n",
    "                    count += 1\n",
    "                    continue\n",
    "\n",
    "                elif link[j] == '}' :\n",
    "                    count += 1\n",
    "                    break\n",
    "            break\n",
    "        else :\n",
    "            continue\n",
    "            \n",
    "    link = link[ : num] + link[num+count : ]\n",
    "    \n",
    "    return link\n",
    "\n",
    "\n",
    "    \n",
    "def DeleteBigHTML(link) :\n",
    "    \n",
    "    Big_HTML = Countblock(link)\n",
    "    \n",
    "    while CheckBigblock(Big_HTML) == True :\n",
    "        \n",
    "        Big_HTML = CountBigblock(Big_HTML)\n",
    "        \n",
    "        continue\n",
    "    \n",
    "    return Big_HTML\n",
    "\n",
    "\n",
    "def CheckWindowblock(link) :\n",
    "    \n",
    "    check = False\n",
    "    \n",
    "    for i in range(len(link)) :\n",
    "        \n",
    "        if link[i:i+6] == 'window' :\n",
    "            check = True\n",
    "            break\n",
    "        else :\n",
    "            continue\n",
    "            \n",
    "    return check\n",
    "\n",
    "\n",
    "def CountWindowblock(link) :\n",
    "    \n",
    "    count = 0\n",
    "    num = 0\n",
    "    \n",
    "    for i in range(0, len(link)) :  \n",
    "        if link[i:i+6] == 'window'  :\n",
    "            num = i\n",
    "            for j in range(i, len(link)) : \n",
    "                if link[j] != ';'  :\n",
    "                    count += 1\n",
    "                    continue\n",
    "\n",
    "                elif link[j] == ';' :\n",
    "                    count += 1\n",
    "                    break\n",
    "            break\n",
    "        else :\n",
    "            continue\n",
    "            \n",
    "    link = link[ : num] + link[num+count : ]\n",
    "    \n",
    "    return link\n",
    "\n",
    "\n",
    "    \n",
    "def DeleteWindowHTML(link) :\n",
    "    \n",
    "    Finally_HTML = CountWindowblock(link)\n",
    "    \n",
    "    while CheckWindowblock(Finally_HTML) == True :\n",
    "        \n",
    "        Finally_HTML = CountFinallyblock(Finally_HTML)\n",
    "        \n",
    "        continue\n",
    "    \n",
    "    return Finally_HTML\n",
    "\n",
    "def checking(list) :\n",
    "    \n",
    "    dictionary = {} \n",
    " \n",
    "    for text in list:\n",
    " \n",
    "        if text not in dictionary :\n",
    "            dictionary[text] = 1\n",
    "        else :\n",
    "            dictionary[text] += 1\n",
    "        \n",
    "    return dictionary\n",
    "\n",
    "New_HTML_1 = DeleteHTML(source_1)\n",
    "Soon_HTML_1 = DeleteVar(New_HTML_1)\n",
    "Maybe_HTML_1 = DeletejsMVC(Soon_HTML_1)\n",
    "Final_HTML_1 = DeleteBigHTML(Maybe_HTML_1)\n",
    "Finally_HTML_1 = DeleteWindowHTML(Final_HTML_1)\n",
    "result_1 = re.sub('[-=+,#/\\?:^$.©@*\\\"※~&%ㆍ!』\\\\‘}|\\(\\)\\[}\\]\\<\\>`\\'…》]', '', Finally_HTML_1)  \n",
    "result_1 = result_1.split()\n",
    "print(checking(result_1))\n",
    "\n",
    "print(\"-----------------------------------------------------------------------------------------------------------\")\n",
    "\n",
    "New_HTML_2 = DeleteHTML(source_2)\n",
    "Soon_HTML_2 = DeleteVar(New_HTML_2)\n",
    "Maybe_HTML_2 = DeletejsMVC(Soon_HTML_2)\n",
    "Final_HTML_2 = DeleteBigHTML(Maybe_HTML_2)\n",
    "Finally_HTML_2 = DeleteWindowHTML(Final_HTML_2)\n",
    "result_2 = re.sub('[-=+,#/\\?:^$.©@*\\\"※~&%ㆍ!』\\\\‘}|\\(\\)\\[}\\]\\<\\>`\\'…》]', '', Finally_HTML_2)  \n",
    "result_2 = result_2.split()\n",
    "print(checking(result_2))\n"
   ]
  },
  {
   "cell_type": "code",
   "execution_count": null,
   "id": "654c0823",
   "metadata": {},
   "outputs": [],
   "source": [
    "#link 3\n",
    "\n",
    "import requests\n",
    "import re\n",
    "\n",
    "req = requests.get('https://blog.naver.com/ahyeon24')\n",
    "source = req.text"
   ]
  },
  {
   "cell_type": "code",
   "execution_count": 31,
   "id": "75ab033e",
   "metadata": {},
   "outputs": [
    {
     "name": "stdout",
     "output_type": "stream",
     "text": [
      "['My', 'Blog', '네이버', '블로그']\n",
      "{'My': 1, 'Blog': 1, '네이버': 1, '블로그': 1}\n"
     ]
    }
   ],
   "source": [
    "import requests\n",
    "import string\n",
    "import re\n",
    "\n",
    "req = requests.get('https://blog.naver.com/ahyeon24')\n",
    "\n",
    "source = req.text\n",
    "\n",
    "def Checkblock(link) :\n",
    "    \n",
    "    check = False\n",
    "    \n",
    "    for i in range(len(link)) :\n",
    "        \n",
    "        if link[i:i+7] == '<title>' :\n",
    "            check = True\n",
    "            break\n",
    "            \n",
    "        else :\n",
    "            continue\n",
    "            \n",
    "    return check\n",
    "\n",
    "\n",
    "def Countblock(link) :\n",
    "    \n",
    "    count = 0\n",
    "    num = 0\n",
    "    \n",
    "    for i in range(0, len(link)) : \n",
    "        if link[i:i+7] == '<title>'  :\n",
    "            num = i+7\n",
    "            for j in range(i, len(link)) : \n",
    "                if link[j:j+8] != '</title>'  :\n",
    "                    count += 1\n",
    "                    continue\n",
    "\n",
    "                elif link[j:j+8] == '</title>' :\n",
    "                    break\n",
    "            break\n",
    "        else :\n",
    "            continue\n",
    "            \n",
    "    link = link[num: num+count-7] \n",
    "    \n",
    "    return link\n",
    "\n",
    "    \n",
    "def Deleteblock(link) :\n",
    "    \n",
    "    HTML = Countblock(link)\n",
    "    \n",
    "    while Checkblock(HTML) == True :\n",
    "        \n",
    "        HTML = Countblock(HTML)\n",
    "        \n",
    "        continue\n",
    "    \n",
    "    return HTML\n",
    "\n",
    "\n",
    "def checking(list) :\n",
    "    \n",
    "    dictionary = {} \n",
    " \n",
    "    for text in list:\n",
    " \n",
    "        if text not in dictionary :\n",
    "            dictionary[text] = 1\n",
    "        else :\n",
    "            dictionary[text] += 1\n",
    "        \n",
    "    return dictionary\n",
    "\n",
    "HTML = Deleteblock(source)\n",
    "    \n",
    "End = re.sub('[-=+,#/\\?:^$.©@*\\\"※~&%ㆍ!』\\\\‘|\\(\\)\\[\\]\\<\\>`\\'…》]', '', HTML)  \n",
    "End = End.split()\n",
    "print(End)\n",
    "print(checking(End))\n"
   ]
  },
  {
   "cell_type": "code",
   "execution_count": 11,
   "id": "bcb09c8b",
   "metadata": {},
   "outputs": [],
   "source": [
    "#link 4, 5\n",
    "import requests\n",
    "import re\n",
    "\n",
    "req = requests.get('http://cse.koreatech.ac.kr')\n",
    "source_1 = req.text\n",
    "\n",
    "deq = requests.get('http://cse.koreatech.ac.kr')\n",
    "source_2 = deq.text"
   ]
  },
  {
   "cell_type": "code",
   "execution_count": 30,
   "id": "8abcf0e6",
   "metadata": {},
   "outputs": [
    {
     "name": "stdout",
     "output_type": "stream",
     "text": [
      "{'403': 1, 'Forbidden': 2, 'You': 1, 'dont': 1, 'have': 1, 'permission': 1, 'to': 1, 'access': 1, 'this': 1, 'resource': 1}\n",
      "-----------------------------------------------------------------------------------------------------------\n",
      "{'강릉시청': 2, '강릉시': 3, 'GANGNEUNG': 1, 'CITY': 1, '본문': 1, '바로가기': 5, '강릉시에': 1, '오신': 1, '것을': 1, '환영합니다': 1, '원활한': 1, '홈페이지': 2, '접속을': 1, '위해': 1, '서비스를': 2, '운영중입니다': 1, '원하시는': 1, '선택해': 1, '주세요': 1, '대표': 1, '코로나19': 2, '대응현황': 1, '발생현황': 1, '및': 1, '대응상황': 1, '안내': 1, '강릉관광': 1, '강릉여행': 1, '향기로': 1, '물들다': 1, 'COPYRIGHT': 1, 'Ⓒ': 1, '2021': 1, 'GANGNEUNGSI': 1, 'ALL': 1, 'RIGHTS': 1, 'RESERVED': 1}\n"
     ]
    }
   ],
   "source": [
    "import requests\n",
    "import re\n",
    "\n",
    "req = requests.get('http://cse.koreatech.ac.kr')\n",
    "source_1 = req.text\n",
    "\n",
    "deq = requests.get('https://www.gn.go.kr/')\n",
    "source_2 = deq.text\n",
    "\n",
    "\n",
    "def Checkblock(link) :\n",
    "    \n",
    "    check = False\n",
    "    \n",
    "    for i in range(len(link)) :\n",
    "        \n",
    "        if link[i] == '<' :\n",
    "            check = True\n",
    "            break\n",
    "            \n",
    "        elif link[i] == '>' :\n",
    "            check = True\n",
    "            break   \n",
    "            \n",
    "        else :\n",
    "            continue\n",
    "            \n",
    "    return check\n",
    "\n",
    "\n",
    "def Countblock(link) :\n",
    "    \n",
    "    count = 0\n",
    "    num = 0\n",
    "    \n",
    "    for i in range(0, len(link)) : \n",
    "        if link[i] == '<'  :\n",
    "            num = i\n",
    "            for j in range(i, len(link)) : \n",
    "                if link[j] != '>'  :\n",
    "                    count += 1\n",
    "                    continue\n",
    "\n",
    "                elif link[j] == '>' :\n",
    "                    count += 1\n",
    "                    break\n",
    "            break\n",
    "        else :\n",
    "            continue\n",
    "            \n",
    "    link = link[ : num] + link[num+count : ]\n",
    "    \n",
    "    return link\n",
    "\n",
    "\n",
    "    \n",
    "def DeleteHTML(link) :\n",
    "    \n",
    "    HTML = Countblock(link)\n",
    "    \n",
    "    while Checkblock(HTML) == True :\n",
    "        \n",
    "        HTML = Countblock(HTML)\n",
    "        \n",
    "        continue\n",
    "    \n",
    "    return HTML\n",
    "\n",
    "\n",
    "def CheckVar(link) :\n",
    "    \n",
    "    check = False\n",
    "    \n",
    "    for i in range(len(link)) :\n",
    "        \n",
    "        if link[i:i+3] == 'var' :\n",
    "            check = True\n",
    "            break\n",
    "            \n",
    "        else :\n",
    "            continue\n",
    "            \n",
    "    return check\n",
    "\n",
    "\n",
    "def CountVar(link) :\n",
    "    \n",
    "    count = 0\n",
    "    num = 0\n",
    "    \n",
    "    for i in range(0, len(link)) :  \n",
    "        if link[i:i+3] == 'var'  :\n",
    "            num = i\n",
    "            for j in range(i, len(link)) : \n",
    "                if link[j] != ';' :\n",
    "                    count += 1\n",
    "                    continue\n",
    "                elif link[j] == ';':\n",
    "                    count += 1\n",
    "                    break\n",
    "            break\n",
    "        else :\n",
    "            continue\n",
    "            \n",
    "    link = link[ : num] + link[num+count : ]\n",
    "    \n",
    "    return link\n",
    "\n",
    "def DeleteVar(link) :\n",
    "    \n",
    "    var_HTML = CountVar(link)\n",
    "    \n",
    "    while CheckVar(var_HTML) == True :\n",
    "        \n",
    "        var_HTML = CountVar(var_HTML)\n",
    "        \n",
    "        continue\n",
    "    \n",
    "    return var_HTML\n",
    "\n",
    "\n",
    "def CheckjsMVC(link) :\n",
    "    \n",
    "    check = False\n",
    "    \n",
    "    for i in range(len(link)) :\n",
    "        \n",
    "        if link[i:i+5] == 'jsMVC' :\n",
    "            check = True\n",
    "            break\n",
    "\n",
    "        else :\n",
    "            continue\n",
    "            \n",
    "    return check\n",
    "\n",
    "\n",
    "def CountjsMVC(link) :\n",
    "    \n",
    "    count = 0\n",
    "    num = 0\n",
    "    \n",
    "    for i in range(0, len(link)) :  \n",
    "        if link[i:i+5] == 'jsMVC'  :\n",
    "            num = i\n",
    "            for j in range(i, len(link)) : \n",
    "                if link[j] != ';' :\n",
    "                    count += 1\n",
    "                    continue\n",
    "                elif link[j] == ';':\n",
    "                    count += 1\n",
    "                    break\n",
    "            break\n",
    "        else :\n",
    "            continue\n",
    "            \n",
    "    link = link[ : num] + link[num+count : ]\n",
    "    \n",
    "    return link\n",
    "\n",
    "def DeletejsMVC(link) :\n",
    "    \n",
    "    jsMVC_HTML = CountjsMVC(link)\n",
    "    \n",
    "    while CheckjsMVC(jsMVC_HTML) == True :\n",
    "        \n",
    "        jsMVC_HTML = CountjsMVC(jsMVC_HTML)\n",
    "        \n",
    "        continue\n",
    "    \n",
    "    return jsMVC_HTML\n",
    "\n",
    "def CheckBigblock(link) :\n",
    "    \n",
    "    check = False\n",
    "    \n",
    "    for i in range(len(link)) :\n",
    "        \n",
    "        if link[i] == '{' :\n",
    "            check = True\n",
    "            break\n",
    "        else :\n",
    "            continue\n",
    "            \n",
    "    return check\n",
    "\n",
    "\n",
    "def CountBigblock(link) :\n",
    "    \n",
    "    count = 0\n",
    "    num = 0\n",
    "    \n",
    "    for i in range(0, len(link)) :  \n",
    "        if link[i] == '{'  :\n",
    "            num = i\n",
    "            for j in range(i, len(link)) : \n",
    "                if link[j] != '}'  :\n",
    "                    count += 1\n",
    "                    continue\n",
    "\n",
    "                elif link[j] == '}' :\n",
    "                    count += 1\n",
    "                    break\n",
    "            break\n",
    "        else :\n",
    "            continue\n",
    "            \n",
    "    link = link[ : num] + link[num+count : ]\n",
    "    \n",
    "    return link\n",
    "\n",
    "def DeleteBigHTML(link) :\n",
    "    \n",
    "    Big_HTML = Countblock(link)\n",
    "    \n",
    "    while CheckBigblock(Big_HTML) == True :\n",
    "        \n",
    "        Big_HTML = CountBigblock(Big_HTML)\n",
    "        \n",
    "        continue\n",
    "    \n",
    "    return Big_HTML\n",
    "\n",
    "def CheckWindowblock(link) :\n",
    "    \n",
    "    check = False\n",
    "    \n",
    "    for i in range(len(link)) :\n",
    "        \n",
    "        if link[i:i+6] == 'window' :\n",
    "            check = True\n",
    "            break\n",
    "        else :\n",
    "            continue\n",
    "            \n",
    "    return check\n",
    "\n",
    "\n",
    "def CountWindowblock(link) :\n",
    "    \n",
    "    count = 0\n",
    "    num = 0\n",
    "    \n",
    "    for i in range(0, len(link)) :  \n",
    "        if link[i:i+6] == 'window'  :\n",
    "            num = i\n",
    "            for j in range(i, len(link)) : \n",
    "                if link[j] != ';'  :\n",
    "                    count += 1\n",
    "                    continue\n",
    "\n",
    "                elif link[j] == ';' :\n",
    "                    count += 1\n",
    "                    break\n",
    "            break\n",
    "        else :\n",
    "            continue\n",
    "            \n",
    "    link = link[ : num] + link[num+count : ]\n",
    "    \n",
    "    return link\n",
    "\n",
    "\n",
    "    \n",
    "def DeleteWindowHTML(link) :\n",
    "    \n",
    "    Finally_HTML = CountWindowblock(link)\n",
    "    \n",
    "    while CheckWindowblock(Finally_HTML) == True :\n",
    "        \n",
    "        Finally_HTML = CountFinallyblock(Finally_HTML)\n",
    "        \n",
    "        continue\n",
    "    \n",
    "    return Finally_HTML\n",
    "\n",
    "\n",
    "def checking(list) :\n",
    "    \n",
    "    dictionary = {} \n",
    " \n",
    "    for text in list:\n",
    " \n",
    "        if text not in dictionary :\n",
    "            dictionary[text] = 1\n",
    "        else :\n",
    "            dictionary[text] += 1\n",
    "        \n",
    "    return dictionary\n",
    "\n",
    "\n",
    "New_HTML_1 = DeleteHTML(source_1)\n",
    "Soon_HTML_1 = DeleteVar(New_HTML_1)\n",
    "Maybe_HTML_1 = DeletejsMVC(Soon_HTML_1)\n",
    "Final_HTML_1 = DeleteBigHTML(Maybe_HTML_1)\n",
    "Finally_HTML_1 = DeleteWindowHTML(Final_HTML_1)\n",
    "result_1 = re.sub('[-=+,#/\\?:^$.©@*\\\"※~&%ㆍ!』\\\\‘}|\\(\\)\\[}\\]\\<\\>`\\'…》]', '', Finally_HTML_1)  \n",
    "result_1 = result_1.split()\n",
    "print(checking(result_1))\n",
    "\n",
    "print(\"-----------------------------------------------------------------------------------------------------------\")\n",
    "\n",
    "New_HTML_2 = DeleteHTML(source_2)\n",
    "Soon_HTML_2 = DeleteVar(New_HTML_2)\n",
    "Maybe_HTML_2 = DeletejsMVC(Soon_HTML_2)\n",
    "Final_HTML_2 = DeleteBigHTML(Maybe_HTML_2)\n",
    "Finally_HTML_2 = DeleteWindowHTML(Final_HTML_2)\n",
    "result_2 = re.sub('[-=+,#/\\?:^$.©@*\\\"※~&%ㆍ!』\\\\‘}|\\(\\)\\[}\\]\\<\\>`\\'…》]', '', Finally_HTML_2)  \n",
    "result_2 = result_2.split()\n",
    "print(checking(result_2))\n"
   ]
  },
  {
   "cell_type": "markdown",
   "id": "45ed13b1",
   "metadata": {},
   "source": [
    "저번 Incremental project에 checking() 함수를 추가하여 단어 출현빈도를 반환하는 함수를 만들었다.\n",
    "각종 특수문자를 제거하는 함수는 re.sub()를 사용하였다. split()함수를 사용하여 공백을 기준으로 리스트로 변경하였다.\n",
    "\n",
    "checking() 함수\n",
    "\n",
    "dictionay 변수를 빈 공백의 딕셔너리로 생성하였다.\n",
    "리스트에 있는 각 문자를 key값으로 설정한다, (dictionay[text]가 key값이 된다.)\n",
    "리스트에 있는 문자열들을 확인하면서, 리스트에 하나밖에 없는 단어는 value 값을 1로 설정한다. \n",
    "만일 리스트에 문자열이 이미 존재한다면, value값에 1을 더해준다.\n"
   ]
  },
  {
   "cell_type": "markdown",
   "id": "a8bd45b5",
   "metadata": {},
   "source": [
    "#소감\n",
    "\n",
    "Incremental Project에서 교수님이 주신 링크들이 실행이 잘 안돼서 나머지 4개의 링크는 찾아서 실행을 시켰다. (이 점을 고치려고 해보았지만, 코드를 다 고쳐야돼서 하지 못했다.)\n",
    "마지막 8, 9번 문제가 많이 어려웠는데 스스로 알고리즘을 하나씩 짜가면서 오류가 나는 부분은 왜 오류가 나는지 확인을 해보니 \n",
    "시간이 오래 걸렸지만 어느정도 고칠 수 있었다."
   ]
  }
 ],
 "metadata": {
  "kernelspec": {
   "display_name": "Python 3",
   "language": "python",
   "name": "python3"
  },
  "language_info": {
   "codemirror_mode": {
    "name": "ipython",
    "version": 3
   },
   "file_extension": ".py",
   "mimetype": "text/x-python",
   "name": "python",
   "nbconvert_exporter": "python",
   "pygments_lexer": "ipython3",
   "version": "3.8.8"
  }
 },
 "nbformat": 4,
 "nbformat_minor": 5
}
